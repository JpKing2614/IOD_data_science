{
 "cells": [
  {
   "cell_type": "markdown",
   "metadata": {
    "colab_type": "text",
    "id": "XfnQYVMtJhQD"
   },
   "source": [
    "<div>\n",
    "<img src=https://www.institutedata.com/wp-content/uploads/2019/10/iod_h_tp_primary_c.svg width=\"300\">\n",
    "</div>\n"
   ]
  },
  {
   "cell_type": "markdown",
   "metadata": {
    "colab_type": "text",
    "id": "5dCt8XbjJhQG"
   },
   "source": [
    "# Lab 3.2.2 \n",
    "# *Mining Social Media with Twitter*"
   ]
  },
  {
   "cell_type": "markdown",
   "metadata": {
    "colab_type": "text",
    "id": "b5VfS9hhJhQI"
   },
   "source": [
    "## The Twitter API and Tweepy Package"
   ]
  },
  {
   "cell_type": "markdown",
   "metadata": {
    "colab_type": "text",
    "id": "lF2z-w5uJhQK"
   },
   "source": [
    "The Twitter API provides access to tweets and comments, and allows an application to post tweets to the user's timeline. \n",
    "\n",
    "Twitter requires developers to create and authenticate an app before they can use the API. As of recent policy changes, however, new developers must be approved before they can create an app. There is no indication of the waiting period for approval."
   ]
  },
  {
   "cell_type": "markdown",
   "metadata": {
    "colab_type": "text",
    "id": "M0wxJ8HNJhQM"
   },
   "source": [
    "### 1. Apply for Developer Access\n",
    "\n",
    "Go to https://blog.twitter.com/developer/en_us/topics/tools/2018/new-developer-requirements-to-protect-our-platform.html\n",
    "and read the advice.\n"
   ]
  },
  {
   "cell_type": "markdown",
   "metadata": {
    "colab_type": "text",
    "id": "tICSKwL1JhQN"
   },
   "source": [
    "Apply at https://developer.twitter.com/en/apply-for-access.html. Where asked state that you will use the app as a student to explore the tweepy Python library and use it to fetch recent tweets and to create/delete a tweet."
   ]
  },
  {
   "cell_type": "markdown",
   "metadata": {
    "colab_type": "text",
    "id": "NMeZ70IZJhQR"
   },
   "source": [
    "### 2. Create Your Twitter App\n",
    "Go to https://developer.twitter.com/en/portal/projects-and-apps and click on the \"+ Create App\" button. Give your app a name and then you will be able to generate Consumer Keys (API key & secret) and Authentication Tokens (Access token & secret). Copy-paste these authentication details for use in this lab."
   ]
  },
  {
   "cell_type": "markdown",
   "metadata": {
    "colab_type": "text",
    "id": "HpWMHz9NJhQS"
   },
   "source": [
    "### 3. Load Python Libraries"
   ]
  },
  {
   "cell_type": "code",
   "execution_count": 2,
   "metadata": {},
   "outputs": [
    {
     "name": "stdout",
     "output_type": "stream",
     "text": [
      "Collecting tweepy\n",
      "  Downloading tweepy-3.10.0-py2.py3-none-any.whl (30 kB)\n",
      "Requirement already satisfied: requests[socks]>=2.11.1 in /opt/anaconda3/lib/python3.8/site-packages (from tweepy) (2.24.0)\n",
      "Collecting requests-oauthlib>=0.7.0\n",
      "  Downloading requests_oauthlib-1.3.0-py2.py3-none-any.whl (23 kB)\n",
      "Requirement already satisfied: six>=1.10.0 in /opt/anaconda3/lib/python3.8/site-packages (from tweepy) (1.15.0)\n",
      "Requirement already satisfied: chardet<4,>=3.0.2 in /opt/anaconda3/lib/python3.8/site-packages (from requests[socks]>=2.11.1->tweepy) (3.0.4)\n",
      "Requirement already satisfied: certifi>=2017.4.17 in /opt/anaconda3/lib/python3.8/site-packages (from requests[socks]>=2.11.1->tweepy) (2020.6.20)\n",
      "Requirement already satisfied: idna<3,>=2.5 in /opt/anaconda3/lib/python3.8/site-packages (from requests[socks]>=2.11.1->tweepy) (2.10)\n",
      "Requirement already satisfied: urllib3!=1.25.0,!=1.25.1,<1.26,>=1.21.1 in /opt/anaconda3/lib/python3.8/site-packages (from requests[socks]>=2.11.1->tweepy) (1.25.11)\n",
      "Requirement already satisfied: PySocks!=1.5.7,>=1.5.6; extra == \"socks\" in /opt/anaconda3/lib/python3.8/site-packages (from requests[socks]>=2.11.1->tweepy) (1.7.1)\n",
      "Collecting oauthlib>=3.0.0\n",
      "  Downloading oauthlib-3.1.0-py2.py3-none-any.whl (147 kB)\n",
      "\u001b[K     |████████████████████████████████| 147 kB 4.2 MB/s eta 0:00:01\n",
      "\u001b[?25hInstalling collected packages: oauthlib, requests-oauthlib, tweepy\n",
      "Successfully installed oauthlib-3.1.0 requests-oauthlib-1.3.0 tweepy-3.10.0\n",
      "Note: you may need to restart the kernel to use updated packages.\n"
     ]
    }
   ],
   "source": [
    "pip install tweepy"
   ]
  },
  {
   "cell_type": "code",
   "execution_count": 3,
   "metadata": {
    "colab": {},
    "colab_type": "code",
    "id": "16hb8EpNJhQU"
   },
   "outputs": [],
   "source": [
    "import tweepy\n",
    "import json\n",
    "import pprint"
   ]
  },
  {
   "cell_type": "code",
   "execution_count": 24,
   "metadata": {},
   "outputs": [],
   "source": [
    "API_key = 'kvYQDIGRkRbWhbudGxg4Mvo6v'\n",
    "secret_API_key = 'e8ptgYxCI9uOcff4cQSm5kVKdKhEG2NPb9lKOoo0KEEVdElS3r'\n",
    "bearer_token = 'AAAAAAAAAAAAAAAAAAAAAMvEPwEAAAAAymS%2BnsGFvdvFyWgOkB8lzZJLPeY%3DoC8Kiv1kqHHOBi8BmWjUim5MoQFrZpz2l0JE08jEHpd70PoEw6'\n",
    "\n",
    "access_token = '1393908060402307080-rCTkdOTFgJu4sxonv71iMVzZKwxDFM'\n",
    "secret_access_token = 'LvuOlqvmHwqSZocf3UzzWtqKodcSTLC7YJmEGkEp7Dq75'"
   ]
  },
  {
   "cell_type": "markdown",
   "metadata": {
    "colab_type": "text",
    "id": "p7W0se6_JhQX"
   },
   "source": [
    "### 4. Authenticate from your Python script"
   ]
  },
  {
   "cell_type": "markdown",
   "metadata": {
    "colab_type": "text",
    "id": "mJfe55dVJhQY"
   },
   "source": [
    "You could assign your authentication details explicitly, as follows:"
   ]
  },
  {
   "cell_type": "code",
   "execution_count": 25,
   "metadata": {
    "colab": {},
    "colab_type": "code",
    "id": "aygW7a3eJhQZ"
   },
   "outputs": [],
   "source": [
    "consumer_key = API_key      # your consumer key (string) goes in here\n",
    "consumer_secret = secret_API_key   # your consumer secret key (string) goes in here\n",
    "#access_token = ''      # your access token (string) goes in here\n",
    "access_token_secret = secret_access_token  # your access token secret (string) goes in here"
   ]
  },
  {
   "cell_type": "markdown",
   "metadata": {
    "colab_type": "text",
    "id": "7LXwmSzOJhQe"
   },
   "source": [
    "A better way would be to store these details externally, so they are not displayed in the notebook:\n",
    "\n",
    "- create a file called \"auth_twitter.json\" in your \"notebooks\" directory, and save your credentials there in JSON format:\n",
    "\n",
    "`{`<br>\n",
    "&nbsp;&nbsp;&nbsp;&nbsp;&nbsp;&nbsp;&nbsp;&nbsp;`   \"consumer_key\": \"your consumer key (string) goes in here\",` <br>\n",
    "&nbsp;&nbsp;&nbsp;&nbsp;&nbsp;&nbsp;&nbsp;&nbsp;` \"consumer_secret\": \"your consumer secret key (string) goes in here\",` <br>\n",
    "&nbsp;&nbsp;&nbsp;&nbsp;&nbsp;&nbsp;&nbsp;&nbsp;`\"access_token\": \"your access token (string) goes in here\",` <br>\n",
    "&nbsp;&nbsp;&nbsp;&nbsp;&nbsp;&nbsp;&nbsp;&nbsp;`\"access_token_secret\": \"your access token secret (string) goes in here\"` <br>\n",
    "`}`\n",
    "\n",
    "(Nb. Parsers are very fussy. Make sure each key:value pair has a comma after it except the last one!)  \n",
    "\n",
    "Use the following code to load the credentials:  "
   ]
  },
  {
   "cell_type": "code",
   "execution_count": 26,
   "metadata": {
    "colab": {},
    "colab_type": "code",
    "id": "kh2srKpzJhQh"
   },
   "outputs": [
    {
     "data": {
      "text/plain": [
       "'/Users/jamesking/Dropbox/IoD_Contents/labs/lab_3'"
      ]
     },
     "execution_count": 26,
     "metadata": {},
     "output_type": "execute_result"
    }
   ],
   "source": [
    "pwd()  # make sure your working directory is where the file is"
   ]
  },
  {
   "cell_type": "code",
   "execution_count": 27,
   "metadata": {
    "colab": {},
    "colab_type": "code",
    "id": "uR8Vchz7JhQm"
   },
   "outputs": [],
   "source": [
    "path_auth = 'auth_twitter.json'\n",
    "auth = json.loads(open(path_auth).read())\n",
    "pp = pprint.PrettyPrinter(indent=4)\n",
    "# For debugging only:\n",
    "#pp.pprint(auth)\n",
    "\n",
    "consumer_key = auth['consumer_key']\n",
    "consumer_secret = auth['consumer_secret']\n",
    "access_token = auth['access_token']\n",
    "access_token_secret = auth['access_token_secret']"
   ]
  },
  {
   "cell_type": "markdown",
   "metadata": {
    "colab_type": "text",
    "id": "GPRmYZigJhQp"
   },
   "source": [
    "Security considerations: \n",
    "- this method only keeps your credentials invisible as long as nobody accesses this notebook while it's running on your computer \n",
    "- if you wanted another user to have access to the executable notebook without divulging your credentials you should set up an OAuth 2.0 workflow to let them obtain and apply their own API tokens when using your app\n",
    "- if you just want to share your analyses, you could use a separate script (which you don't share) to fetch the data and save it locally, then use a second notebook (with no API access) to load and analyse the locally stored data"
   ]
  },
  {
   "cell_type": "markdown",
   "metadata": {
    "colab_type": "text",
    "id": "Ln30k0pZJhQp"
   },
   "source": [
    "### 5. Exploring the API"
   ]
  },
  {
   "cell_type": "markdown",
   "metadata": {
    "colab_type": "text",
    "id": "6fsc0U1nJhQq"
   },
   "source": [
    "Here is how to connect to Twitter using the Tweepy library:"
   ]
  },
  {
   "cell_type": "code",
   "execution_count": 28,
   "metadata": {
    "colab": {},
    "colab_type": "code",
    "id": "-y_4GBx1JhQr"
   },
   "outputs": [],
   "source": [
    "auth = tweepy.OAuthHandler(consumer_key, consumer_secret)\n",
    "auth.set_access_token(access_token, access_token_secret)\n",
    "api = tweepy.API(auth)"
   ]
  },
  {
   "cell_type": "markdown",
   "metadata": {
    "colab_type": "text",
    "id": "wSKzR9LdJhQu"
   },
   "source": [
    "In the next cell, put the cursor after the '.' and hit the [tab] key to see the available members and methods in the response object:"
   ]
  },
  {
   "cell_type": "code",
   "execution_count": 29,
   "metadata": {
    "colab": {},
    "colab_type": "code",
    "id": "BfnAOR2bJhQv"
   },
   "outputs": [
    {
     "data": {
      "text/plain": [
       "<tweepy.auth.OAuthHandler at 0x7fbf29e6a5b0>"
      ]
     },
     "execution_count": 29,
     "metadata": {},
     "output_type": "execute_result"
    }
   ],
   "source": [
    "api.auth"
   ]
  },
  {
   "cell_type": "markdown",
   "metadata": {
    "colab_type": "text",
    "id": "DcJ-cc6zJhQz"
   },
   "source": [
    "Consult the Tweept and Twitter API documentation. Print a few of the response members below:"
   ]
  },
  {
   "cell_type": "code",
   "execution_count": 30,
   "metadata": {
    "colab": {},
    "colab_type": "code",
    "id": "W_IKqMAQJhQ1"
   },
   "outputs": [
    {
     "data": {
      "text/plain": [
       "'/1.1'"
      ]
     },
     "execution_count": 30,
     "metadata": {},
     "output_type": "execute_result"
    }
   ],
   "source": [
    "api.api_root"
   ]
  },
  {
   "cell_type": "markdown",
   "metadata": {
    "colab_type": "text",
    "id": "dLkdLKjLJhQ3"
   },
   "source": [
    "This will fetch recent tweets from accounts you follow:"
   ]
  },
  {
   "cell_type": "code",
   "execution_count": 31,
   "metadata": {
    "colab": {},
    "colab_type": "code",
    "id": "l9y8t3X7JhQ4"
   },
   "outputs": [],
   "source": [
    "# Recent tweets from accounts you follow:\n",
    "tweets = api.home_timeline()\n",
    "for tweet in tweets:\n",
    "    print(tweet.text)"
   ]
  },
  {
   "cell_type": "markdown",
   "metadata": {
    "colab_type": "text",
    "id": "k2NpPlOIJhQ6"
   },
   "source": [
    "The request to see your own recent tweets is similar, but uses the `user_timeline` endpoint. Try this below:"
   ]
  },
  {
   "cell_type": "raw",
   "metadata": {
    "colab": {},
    "colab_type": "code",
    "id": "QMlhdx5NJhQ6"
   },
   "source": [
    "tweets = api.user_timeline()\n",
    "for tweet in tweets:\n",
    "    print(tweet.text)"
   ]
  },
  {
   "cell_type": "markdown",
   "metadata": {
    "colab_type": "text",
    "id": "qY7oM-lJJhQ8"
   },
   "source": [
    "Now, instead of printing the text of each tweet, print the `created_at` and `id_str` methods:"
   ]
  },
  {
   "cell_type": "code",
   "execution_count": 32,
   "metadata": {
    "colab": {},
    "colab_type": "code",
    "id": "aUOlNdG8JhQ9"
   },
   "outputs": [],
   "source": [
    "tweets = api.home_timeline()\n",
    "for tweet in tweets:\n",
    "    print(tweet.created_at())\n",
    "    print(tweet.id_str())"
   ]
  },
  {
   "cell_type": "markdown",
   "metadata": {
    "colab_type": "text",
    "id": "3PibchrmJhQ-"
   },
   "source": [
    "You can create a tweet as follows:"
   ]
  },
  {
   "cell_type": "code",
   "execution_count": 33,
   "metadata": {
    "colab": {},
    "colab_type": "code",
    "id": "IwzTjf1gJhQ_"
   },
   "outputs": [],
   "source": [
    "# create a tweet:\n",
    "tweet = api.update_status('Test: Made with Tweepy')"
   ]
  },
  {
   "cell_type": "markdown",
   "metadata": {
    "colab_type": "text",
    "id": "TtlXvbjoJhRB"
   },
   "source": [
    "(Nb. Don't abuse this feature! If you try to generate a zillion tweets in a loop, Twitter will ban youur account.)"
   ]
  },
  {
   "cell_type": "markdown",
   "metadata": {
    "colab_type": "text",
    "id": "awUIiruTJhRB"
   },
   "source": [
    "Tweets can be deleted by reference to their `id_str` attribute:"
   ]
  },
  {
   "cell_type": "code",
   "execution_count": 34,
   "metadata": {
    "colab": {},
    "colab_type": "code",
    "id": "tKPSCOEBJhRC"
   },
   "outputs": [],
   "source": [
    "# delete a tweet:\n",
    "status = api.destroy_status(tweet.id_str)"
   ]
  },
  {
   "cell_type": "markdown",
   "metadata": {
    "colab_type": "text",
    "id": "hEt9NWJBJhRE"
   },
   "source": [
    "You can follow a Tweeter:"
   ]
  },
  {
   "cell_type": "code",
   "execution_count": 37,
   "metadata": {
    "colab": {},
    "colab_type": "code",
    "id": "CDWxR8wOJhRF"
   },
   "outputs": [
    {
     "data": {
      "text/plain": [
       "User(_api=<tweepy.api.API object at 0x7fbf29aea790>, _json={'id': 10228272, 'id_str': '10228272', 'name': 'YouTube', 'screen_name': 'YouTube', 'location': 'San Bruno, CA', 'description': 'Like and subscribe.', 'url': 'https://t.co/qkVaJFk2CG', 'entities': {'url': {'urls': [{'url': 'https://t.co/qkVaJFk2CG', 'expanded_url': 'https://www.youtube.com/', 'display_url': 'youtube.com', 'indices': [0, 23]}]}, 'description': {'urls': []}}, 'protected': False, 'followers_count': 73054537, 'friends_count': 1201, 'listed_count': 79254, 'created_at': 'Tue Nov 13 21:43:46 +0000 2007', 'favourites_count': 5546, 'utc_offset': None, 'time_zone': None, 'geo_enabled': False, 'verified': True, 'statuses_count': 33377, 'lang': None, 'status': {'created_at': 'Sun May 23 20:44:09 +0000 2021', 'id': 1396567652332494848, 'id_str': '1396567652332494848', 'text': '@Sammykay091112 @caylusq OMG 🤣', 'truncated': False, 'entities': {'hashtags': [], 'symbols': [], 'user_mentions': [{'screen_name': 'Sammykay091112', 'name': 'Samantha Eaton', 'id': 836752749371011072, 'id_str': '836752749371011072', 'indices': [0, 15]}, {'screen_name': 'caylusq', 'name': 'Infinite', 'id': 4744897652, 'id_str': '4744897652', 'indices': [16, 24]}], 'urls': []}, 'source': '<a href=\"https://mobile.twitter.com\" rel=\"nofollow\">Twitter Web App</a>', 'in_reply_to_status_id': 1396562625232789504, 'in_reply_to_status_id_str': '1396562625232789504', 'in_reply_to_user_id': 836752749371011072, 'in_reply_to_user_id_str': '836752749371011072', 'in_reply_to_screen_name': 'Sammykay091112', 'geo': None, 'coordinates': None, 'place': None, 'contributors': None, 'is_quote_status': False, 'retweet_count': 0, 'favorite_count': 2, 'favorited': False, 'retweeted': False, 'lang': 'und'}, 'contributors_enabled': False, 'is_translator': False, 'is_translation_enabled': True, 'profile_background_color': 'AF0000', 'profile_background_image_url': 'http://abs.twimg.com/images/themes/theme14/bg.gif', 'profile_background_image_url_https': 'https://abs.twimg.com/images/themes/theme14/bg.gif', 'profile_background_tile': True, 'profile_image_url': 'http://pbs.twimg.com/profile_images/1308106203860529152/yOwTDF9G_normal.jpg', 'profile_image_url_https': 'https://pbs.twimg.com/profile_images/1308106203860529152/yOwTDF9G_normal.jpg', 'profile_banner_url': 'https://pbs.twimg.com/profile_banners/10228272/1617285521', 'profile_link_color': 'C9191D', 'profile_sidebar_border_color': '000000', 'profile_sidebar_fill_color': 'EFEFEF', 'profile_text_color': '333333', 'profile_use_background_image': True, 'has_extended_profile': False, 'default_profile': False, 'default_profile_image': False, 'following': True, 'follow_request_sent': False, 'notifications': False, 'muting': False, 'translator_type': 'regular', 'withheld_in_countries': []}, id=10228272, id_str='10228272', name='YouTube', screen_name='YouTube', location='San Bruno, CA', description='Like and subscribe.', url='https://t.co/qkVaJFk2CG', entities={'url': {'urls': [{'url': 'https://t.co/qkVaJFk2CG', 'expanded_url': 'https://www.youtube.com/', 'display_url': 'youtube.com', 'indices': [0, 23]}]}, 'description': {'urls': []}}, protected=False, followers_count=73054537, friends_count=1201, listed_count=79254, created_at=datetime.datetime(2007, 11, 13, 21, 43, 46), favourites_count=5546, utc_offset=None, time_zone=None, geo_enabled=False, verified=True, statuses_count=33377, lang=None, status=Status(_api=<tweepy.api.API object at 0x7fbf29aea790>, _json={'created_at': 'Sun May 23 20:44:09 +0000 2021', 'id': 1396567652332494848, 'id_str': '1396567652332494848', 'text': '@Sammykay091112 @caylusq OMG 🤣', 'truncated': False, 'entities': {'hashtags': [], 'symbols': [], 'user_mentions': [{'screen_name': 'Sammykay091112', 'name': 'Samantha Eaton', 'id': 836752749371011072, 'id_str': '836752749371011072', 'indices': [0, 15]}, {'screen_name': 'caylusq', 'name': 'Infinite', 'id': 4744897652, 'id_str': '4744897652', 'indices': [16, 24]}], 'urls': []}, 'source': '<a href=\"https://mobile.twitter.com\" rel=\"nofollow\">Twitter Web App</a>', 'in_reply_to_status_id': 1396562625232789504, 'in_reply_to_status_id_str': '1396562625232789504', 'in_reply_to_user_id': 836752749371011072, 'in_reply_to_user_id_str': '836752749371011072', 'in_reply_to_screen_name': 'Sammykay091112', 'geo': None, 'coordinates': None, 'place': None, 'contributors': None, 'is_quote_status': False, 'retweet_count': 0, 'favorite_count': 2, 'favorited': False, 'retweeted': False, 'lang': 'und'}, created_at=datetime.datetime(2021, 5, 23, 20, 44, 9), id=1396567652332494848, id_str='1396567652332494848', text='@Sammykay091112 @caylusq OMG 🤣', truncated=False, entities={'hashtags': [], 'symbols': [], 'user_mentions': [{'screen_name': 'Sammykay091112', 'name': 'Samantha Eaton', 'id': 836752749371011072, 'id_str': '836752749371011072', 'indices': [0, 15]}, {'screen_name': 'caylusq', 'name': 'Infinite', 'id': 4744897652, 'id_str': '4744897652', 'indices': [16, 24]}], 'urls': []}, source='Twitter Web App', source_url='https://mobile.twitter.com', in_reply_to_status_id=1396562625232789504, in_reply_to_status_id_str='1396562625232789504', in_reply_to_user_id=836752749371011072, in_reply_to_user_id_str='836752749371011072', in_reply_to_screen_name='Sammykay091112', geo=None, coordinates=None, place=None, contributors=None, is_quote_status=False, retweet_count=0, favorite_count=2, favorited=False, retweeted=False, lang='und'), contributors_enabled=False, is_translator=False, is_translation_enabled=True, profile_background_color='AF0000', profile_background_image_url='http://abs.twimg.com/images/themes/theme14/bg.gif', profile_background_image_url_https='https://abs.twimg.com/images/themes/theme14/bg.gif', profile_background_tile=True, profile_image_url='http://pbs.twimg.com/profile_images/1308106203860529152/yOwTDF9G_normal.jpg', profile_image_url_https='https://pbs.twimg.com/profile_images/1308106203860529152/yOwTDF9G_normal.jpg', profile_banner_url='https://pbs.twimg.com/profile_banners/10228272/1617285521', profile_link_color='C9191D', profile_sidebar_border_color='000000', profile_sidebar_fill_color='EFEFEF', profile_text_color='333333', profile_use_background_image=True, has_extended_profile=False, default_profile=False, default_profile_image=False, following=True, follow_request_sent=False, notifications=False, muting=False, translator_type='regular', withheld_in_countries=[])"
      ]
     },
     "execution_count": 37,
     "metadata": {},
     "output_type": "execute_result"
    }
   ],
   "source": [
    "# follow:\n",
    "api.create_friendship('@YouTube')"
   ]
  },
  {
   "cell_type": "markdown",
   "metadata": {
    "colab_type": "text",
    "id": "Nbp2vRONJhRH"
   },
   "source": [
    "or unfollow:"
   ]
  },
  {
   "cell_type": "code",
   "execution_count": 36,
   "metadata": {
    "colab": {},
    "colab_type": "code",
    "id": "wCsNNVT9JhRH"
   },
   "outputs": [
    {
     "data": {
      "text/plain": [
       "User(_api=<tweepy.api.API object at 0x7fbf29aea790>, _json={'id': 10228272, 'id_str': '10228272', 'name': 'YouTube', 'screen_name': 'YouTube', 'location': 'San Bruno, CA', 'description': 'Like and subscribe.', 'url': 'https://t.co/qkVaJFk2CG', 'entities': {'url': {'urls': [{'url': 'https://t.co/qkVaJFk2CG', 'expanded_url': 'https://www.youtube.com/', 'display_url': 'youtube.com', 'indices': [0, 23]}]}, 'description': {'urls': []}}, 'protected': False, 'followers_count': 73054537, 'friends_count': 1201, 'listed_count': 79254, 'created_at': 'Tue Nov 13 21:43:46 +0000 2007', 'favourites_count': 5546, 'utc_offset': None, 'time_zone': None, 'geo_enabled': False, 'verified': True, 'statuses_count': 33377, 'lang': None, 'status': {'created_at': 'Sun May 23 20:44:09 +0000 2021', 'id': 1396567652332494848, 'id_str': '1396567652332494848', 'text': '@Sammykay091112 @caylusq OMG 🤣', 'truncated': False, 'entities': {'hashtags': [], 'symbols': [], 'user_mentions': [{'screen_name': 'Sammykay091112', 'name': 'Samantha Eaton', 'id': 836752749371011072, 'id_str': '836752749371011072', 'indices': [0, 15]}, {'screen_name': 'caylusq', 'name': 'Infinite', 'id': 4744897652, 'id_str': '4744897652', 'indices': [16, 24]}], 'urls': []}, 'source': '<a href=\"https://mobile.twitter.com\" rel=\"nofollow\">Twitter Web App</a>', 'in_reply_to_status_id': 1396562625232789504, 'in_reply_to_status_id_str': '1396562625232789504', 'in_reply_to_user_id': 836752749371011072, 'in_reply_to_user_id_str': '836752749371011072', 'in_reply_to_screen_name': 'Sammykay091112', 'geo': None, 'coordinates': None, 'place': None, 'contributors': None, 'is_quote_status': False, 'retweet_count': 0, 'favorite_count': 2, 'favorited': False, 'retweeted': False, 'lang': 'und'}, 'contributors_enabled': False, 'is_translator': False, 'is_translation_enabled': True, 'profile_background_color': 'AF0000', 'profile_background_image_url': 'http://abs.twimg.com/images/themes/theme14/bg.gif', 'profile_background_image_url_https': 'https://abs.twimg.com/images/themes/theme14/bg.gif', 'profile_background_tile': True, 'profile_image_url': 'http://pbs.twimg.com/profile_images/1308106203860529152/yOwTDF9G_normal.jpg', 'profile_image_url_https': 'https://pbs.twimg.com/profile_images/1308106203860529152/yOwTDF9G_normal.jpg', 'profile_banner_url': 'https://pbs.twimg.com/profile_banners/10228272/1617285521', 'profile_link_color': 'C9191D', 'profile_sidebar_border_color': '000000', 'profile_sidebar_fill_color': 'EFEFEF', 'profile_text_color': '333333', 'profile_use_background_image': True, 'has_extended_profile': False, 'default_profile': False, 'default_profile_image': False, 'following': True, 'follow_request_sent': False, 'notifications': False, 'muting': False, 'translator_type': 'regular', 'withheld_in_countries': []}, id=10228272, id_str='10228272', name='YouTube', screen_name='YouTube', location='San Bruno, CA', description='Like and subscribe.', url='https://t.co/qkVaJFk2CG', entities={'url': {'urls': [{'url': 'https://t.co/qkVaJFk2CG', 'expanded_url': 'https://www.youtube.com/', 'display_url': 'youtube.com', 'indices': [0, 23]}]}, 'description': {'urls': []}}, protected=False, followers_count=73054537, friends_count=1201, listed_count=79254, created_at=datetime.datetime(2007, 11, 13, 21, 43, 46), favourites_count=5546, utc_offset=None, time_zone=None, geo_enabled=False, verified=True, statuses_count=33377, lang=None, status=Status(_api=<tweepy.api.API object at 0x7fbf29aea790>, _json={'created_at': 'Sun May 23 20:44:09 +0000 2021', 'id': 1396567652332494848, 'id_str': '1396567652332494848', 'text': '@Sammykay091112 @caylusq OMG 🤣', 'truncated': False, 'entities': {'hashtags': [], 'symbols': [], 'user_mentions': [{'screen_name': 'Sammykay091112', 'name': 'Samantha Eaton', 'id': 836752749371011072, 'id_str': '836752749371011072', 'indices': [0, 15]}, {'screen_name': 'caylusq', 'name': 'Infinite', 'id': 4744897652, 'id_str': '4744897652', 'indices': [16, 24]}], 'urls': []}, 'source': '<a href=\"https://mobile.twitter.com\" rel=\"nofollow\">Twitter Web App</a>', 'in_reply_to_status_id': 1396562625232789504, 'in_reply_to_status_id_str': '1396562625232789504', 'in_reply_to_user_id': 836752749371011072, 'in_reply_to_user_id_str': '836752749371011072', 'in_reply_to_screen_name': 'Sammykay091112', 'geo': None, 'coordinates': None, 'place': None, 'contributors': None, 'is_quote_status': False, 'retweet_count': 0, 'favorite_count': 2, 'favorited': False, 'retweeted': False, 'lang': 'und'}, created_at=datetime.datetime(2021, 5, 23, 20, 44, 9), id=1396567652332494848, id_str='1396567652332494848', text='@Sammykay091112 @caylusq OMG 🤣', truncated=False, entities={'hashtags': [], 'symbols': [], 'user_mentions': [{'screen_name': 'Sammykay091112', 'name': 'Samantha Eaton', 'id': 836752749371011072, 'id_str': '836752749371011072', 'indices': [0, 15]}, {'screen_name': 'caylusq', 'name': 'Infinite', 'id': 4744897652, 'id_str': '4744897652', 'indices': [16, 24]}], 'urls': []}, source='Twitter Web App', source_url='https://mobile.twitter.com', in_reply_to_status_id=1396562625232789504, in_reply_to_status_id_str='1396562625232789504', in_reply_to_user_id=836752749371011072, in_reply_to_user_id_str='836752749371011072', in_reply_to_screen_name='Sammykay091112', geo=None, coordinates=None, place=None, contributors=None, is_quote_status=False, retweet_count=0, favorite_count=2, favorited=False, retweeted=False, lang='und'), contributors_enabled=False, is_translator=False, is_translation_enabled=True, profile_background_color='AF0000', profile_background_image_url='http://abs.twimg.com/images/themes/theme14/bg.gif', profile_background_image_url_https='https://abs.twimg.com/images/themes/theme14/bg.gif', profile_background_tile=True, profile_image_url='http://pbs.twimg.com/profile_images/1308106203860529152/yOwTDF9G_normal.jpg', profile_image_url_https='https://pbs.twimg.com/profile_images/1308106203860529152/yOwTDF9G_normal.jpg', profile_banner_url='https://pbs.twimg.com/profile_banners/10228272/1617285521', profile_link_color='C9191D', profile_sidebar_border_color='000000', profile_sidebar_fill_color='EFEFEF', profile_text_color='333333', profile_use_background_image=True, has_extended_profile=False, default_profile=False, default_profile_image=False, following=True, follow_request_sent=False, notifications=False, muting=False, translator_type='regular', withheld_in_countries=[])"
      ]
     },
     "execution_count": 36,
     "metadata": {},
     "output_type": "execute_result"
    }
   ],
   "source": [
    "# unfollow:\n",
    "api.destroy_friendship('@YouTube')"
   ]
  },
  {
   "cell_type": "code",
   "execution_count": 0,
   "metadata": {
    "colab": {},
    "colab_type": "code",
    "id": "ND4BmdkvJhRJ"
   },
   "outputs": [],
   "source": []
  },
  {
   "cell_type": "markdown",
   "metadata": {
    "colab_type": "text",
    "id": "59l7EOATJrJO"
   },
   "source": [
    "\n",
    "\n",
    "---\n",
    "\n",
    "\n",
    "\n",
    "---\n",
    "\n",
    "\n",
    "\n",
    "> > > > > > > > > © 2021 Institute of Data\n",
    "\n",
    "\n",
    "---\n",
    "\n",
    "\n",
    "\n",
    "---\n",
    "\n",
    "\n",
    "\n"
   ]
  }
 ],
 "metadata": {
  "colab": {
   "collapsed_sections": [],
   "name": "DSIA Lab 2.2.2.ipynb",
   "provenance": []
  },
  "kernelspec": {
   "display_name": "Python 3",
   "language": "python",
   "name": "python3"
  },
  "language_info": {
   "codemirror_mode": {
    "name": "ipython",
    "version": 3
   },
   "file_extension": ".py",
   "mimetype": "text/x-python",
   "name": "python",
   "nbconvert_exporter": "python",
   "pygments_lexer": "ipython3",
   "version": "3.8.5"
  }
 },
 "nbformat": 4,
 "nbformat_minor": 1
}
