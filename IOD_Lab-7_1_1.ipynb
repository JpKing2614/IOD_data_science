{
 "cells": [
  {
   "cell_type": "markdown",
   "metadata": {
    "colab_type": "text",
    "id": "6glBmK_4f5pA"
   },
   "source": [
    "<div>\n",
    "<img src=https://www.institutedata.com/wp-content/uploads/2019/10/iod_h_tp_primary_c.svg width=\"300\">\n",
    "</div>"
   ]
  },
  {
   "cell_type": "markdown",
   "metadata": {
    "colab_type": "text",
    "id": "TGXEv1Gnf5pC"
   },
   "source": [
    "# Lab 7.1.1: Decision Trees\n",
    "\n",
    "INSTRUCTIONS:\n",
    "\n",
    "- Read the guides and hints then create the necessary analysis and code to find and answer and conclusion for the scenario below.\n",
    "- The baseline results (minimum) are:\n",
    "    - **Accuracy** = 0.6895\n",
    "    - **ROC AUC**  = 0.5690\n",
    "- Try to achieve better results!"
   ]
  },
  {
   "cell_type": "markdown",
   "metadata": {
    "colab_type": "text",
    "id": "ZKdH4vaYf5pF"
   },
   "source": [
    "# Foreword\n",
    "It is common that companies and professionals start with the data immediately available. Although this approach works, ideally the first step is to idenfy the problem or question and only then identify and obtain the set of data that can help to solve or answer the problem.\n",
    "\n",
    "Also, given the current abundance of data, processing power and some particular machine learning methods, there could be a temptation to use ALL the data available. **Quality** is _**better**_ then **Quantity**!\n",
    "\n",
    "Part of calling this discipline **Data Science** is that it is supposed to follow a process and not reach conclusions without support from evidence.\n",
    "\n",
    "Moreover, it is a creative, exploratory, labour and iteractive processes. It is part of the process to repeat, review and change when finding a dead-end."
   ]
  },
  {
   "cell_type": "markdown",
   "metadata": {
    "colab_type": "text",
    "id": "Qgo2pD4Qf5pI"
   },
   "source": [
    "# Step 1: Define the problem or question\n",
    "Identify the subject matter and the given or obvious questions that would be relevant in the field.\n",
    "\n",
    "## Potential Questions\n",
    "List the given or obvious questions.\n",
    "\n",
    "## Actual Question\n",
    "Choose the **one** question that should be answered."
   ]
  },
  {
   "cell_type": "markdown",
   "metadata": {
    "colab_type": "text",
    "id": "XcywG7Fpf5pK"
   },
   "source": [
    "# Step 2: Find the Data\n",
    "### Blood Transfusion Service Center DataSet\n",
    "- **Abstract**: Data taken from the **Blood Transfusion Service Center** in Hsin-Chu City in Taiwan.\n",
    "- Date Donated: 2008-10-03\n",
    "- Source:\n",
    "        Original Owner and Donor: Prof. I-Cheng Yeh \n",
    "        Department of Information Management \n",
    "        Chung-Hua University, \n",
    "        Hsin Chu, Taiwan 30067, R.O.C. \n",
    "\n",
    "- Citation Request:\n",
    "    **NOTE**: Reuse of this database is unlimited with retention of copyright notice for Prof. I-Cheng Yeh and the following published paper: \n",
    "\n",
    "        Yeh, I-Cheng, Yang, King-Jang, and Ting, Tao-Ming, \"Knowledge discovery on RFM model using Bernoulli sequence, \"Expert Systems with Applications, 2008\n",
    "        \n",
    "### UCI - Machine Learning Repository\n",
    "- Center for Machine Learning and Intelligent Systems\n",
    "\n",
    "The [**UCI Machine Learning Repository**](http://archive.ics.uci.edu/ml/about.html) is a collection of databases, domain theories, and data generators that are used by the machine learning community for the empirical analysis of machine learning algorithms."
   ]
  },
  {
   "cell_type": "markdown",
   "metadata": {
    "colab_type": "text",
    "id": "IwGlVhahf5pL"
   },
   "source": [
    "# Step 3: Read the Data\n",
    "- Read the data\n",
    "- Perform some basic structural cleaning to facilitate the work"
   ]
  },
  {
   "cell_type": "markdown",
   "metadata": {
    "colab_type": "text",
    "id": "_IwMz47Vf5pN"
   },
   "source": [
    "# Step 4: Explore and Clean the Data\n",
    "- Perform some initial simple **EDA** (Exploratory Data Analysis)\n",
    "- Check for\n",
    "    - **Number of features**\n",
    "    - **Data types**\n",
    "    - **Domains, Intervals**\n",
    "    - **Outliers** (are they valid or expurious data [read or measure errors])\n",
    "    - **Null** (values not present or coded [as zero of empty strings])\n",
    "    - **Missing Values** (coded [as zero of empty strings] or values not present)\n",
    "    - **Coded content** (classes identified by numbers or codes to represent absence of data)"
   ]
  },
  {
   "cell_type": "markdown",
   "metadata": {
    "colab_type": "text",
    "id": "kTRdzVqdf5pO"
   },
   "source": [
    "# Step 5: Prepare the Data\n",
    "- Deal with the data as required by the modelling technique\n",
    "    - **Outliers** (remove or adjust if possible or necessary)\n",
    "    - **Null** (remove or interpolate if possible or necessary)\n",
    "    - **Missing Values** (remove or interpolate if possible or necessary)\n",
    "    - **Coded content** (transform if possible or necessary [str to number or vice-versa])\n",
    "    - **Normalisation** (if possible or necessary)\n",
    "    - **Feature Engeneer** (if useful or necessary)"
   ]
  },
  {
   "cell_type": "markdown",
   "metadata": {
    "colab_type": "text",
    "id": "CLb2lL-4f5pQ"
   },
   "source": [
    "# Step 6: Modelling\n",
    "Refer to the Problem and Main Question.\n",
    "- What are the input variables (features)?\n",
    "- Is there an output variable (label)?\n",
    "- If there is an output variable:\n",
    "    - What is it?\n",
    "    - What is its type?\n",
    "- What type of Modelling is it?\n",
    "    - [ ] Supervised\n",
    "    - [ ] Unsupervised \n",
    "- What type of Modelling is it?\n",
    "    - [ ] Regression\n",
    "    - [ ] Classification (binary) \n",
    "    - [ ] Classification (multi-class)\n",
    "    - [ ] Clustering"
   ]
  },
  {
   "cell_type": "markdown",
   "metadata": {
    "colab_type": "text",
    "id": "Ds7KV52Lf5pR"
   },
   "source": [
    "# Step 7: Split the Data\n",
    "\n",
    "Need to check for **Supervised** modelling:\n",
    "- Number of known cases or observations\n",
    "- Define the split in Training/Test or Training/Validation/Test and their proportions\n",
    "- Check for unbalanced classes and how to keep or avoid it when spliting"
   ]
  },
  {
   "cell_type": "markdown",
   "metadata": {
    "colab_type": "text",
    "id": "aQxzsLj1f5pS"
   },
   "source": [
    "# Step 8: Define a Model\n",
    "\n",
    "Define the model and its hyper-parameters.\n",
    "\n",
    "Consider the parameters and hyper-parameters of each model at each (re)run and after checking the efficiency of a model against the training and test datasets."
   ]
  },
  {
   "cell_type": "markdown",
   "metadata": {
    "colab_type": "text",
    "id": "8IfjVd4uf5pT"
   },
   "source": [
    "# Step 9: Fit the Model"
   ]
  },
  {
   "cell_type": "markdown",
   "metadata": {
    "colab_type": "text",
    "id": "trc47eNDf5pV"
   },
   "source": [
    "# Step 10: Verify and Evaluate the Training Model\n",
    "- Use the **training** data to make predictions\n",
    "- Check for overfitting\n",
    "- What metrics are appropriate for the modelling approach used\n",
    "- For **Supervised** models:\n",
    "    - Check the **Training Results** with the **Training Predictions** during development\n",
    "- Analyse, modify the parameters and hyper-parameters and repeat (within reason) until the model does not improve"
   ]
  },
  {
   "cell_type": "markdown",
   "metadata": {
    "colab_type": "text",
    "id": "TpVdZQdkf5pW"
   },
   "source": [
    "# Step 11: Make Predictions and Evaluate the Test Model\n",
    "**NOTE**: **Do this only after not making any more improvements in the model**.\n",
    "\n",
    "- Use the **test** data to make predictions\n",
    "- For **Supervised** models:\n",
    "    - Check the **Test Results** with the **Test Predictions**"
   ]
  },
  {
   "cell_type": "markdown",
   "metadata": {
    "colab_type": "text",
    "id": "SJ5WfSLuf5pY"
   },
   "source": [
    "# Step 12: Solve the Problem or Answer the Question\n",
    "The results of an analysis or modelling can be used:\n",
    "- As part of a product or process, so the model can make predictions when new input data is available\n",
    "- As part of a report including text and charts to help understand the problem\n",
    "- As input for further questions"
   ]
  },
  {
   "cell_type": "code",
   "execution_count": 0,
   "metadata": {
    "colab": {},
    "colab_type": "code",
    "id": "E1rd-jYcpTzi"
   },
   "outputs": [],
   "source": []
  },
  {
   "cell_type": "markdown",
   "metadata": {},
   "source": [
    "# Step 1"
   ]
  },
  {
   "cell_type": "markdown",
   "metadata": {},
   "source": [
    "#### Potential Questions\n",
    "\n",
    "#### Actual Question\n",
    "\n",
    "How likely is a person to donate blood given their transfusion history?"
   ]
  },
  {
   "cell_type": "markdown",
   "metadata": {},
   "source": [
    "## Step 2+3"
   ]
  },
  {
   "cell_type": "code",
   "execution_count": 2,
   "metadata": {},
   "outputs": [],
   "source": [
    "import numpy as np\n",
    "import pandas as pd"
   ]
  },
  {
   "cell_type": "code",
   "execution_count": 3,
   "metadata": {},
   "outputs": [],
   "source": [
    "data_name = 'transfusion.data'\n",
    "\n",
    "data = pd.read_csv(data_name, sep=\",\")"
   ]
  },
  {
   "cell_type": "markdown",
   "metadata": {},
   "source": [
    "## Step 4"
   ]
  },
  {
   "cell_type": "markdown",
   "metadata": {},
   "source": [
    "#### Number of Features"
   ]
  },
  {
   "cell_type": "code",
   "execution_count": 4,
   "metadata": {},
   "outputs": [
    {
     "data": {
      "text/plain": [
       "5"
      ]
     },
     "execution_count": 4,
     "metadata": {},
     "output_type": "execute_result"
    }
   ],
   "source": [
    "data.shape[1]"
   ]
  },
  {
   "cell_type": "markdown",
   "metadata": {},
   "source": [
    "#### Data Types"
   ]
  },
  {
   "cell_type": "code",
   "execution_count": 5,
   "metadata": {},
   "outputs": [
    {
     "data": {
      "text/plain": [
       "Recency (months)                              int64\n",
       "Frequency (times)                             int64\n",
       "Monetary (c.c. blood)                         int64\n",
       "Time (months)                                 int64\n",
       "whether he/she donated blood in March 2007    int64\n",
       "dtype: object"
      ]
     },
     "execution_count": 5,
     "metadata": {},
     "output_type": "execute_result"
    }
   ],
   "source": [
    "data.dtypes"
   ]
  },
  {
   "cell_type": "markdown",
   "metadata": {},
   "source": [
    "#### Domains/Intervals"
   ]
  },
  {
   "cell_type": "code",
   "execution_count": 6,
   "metadata": {},
   "outputs": [
    {
     "name": "stdout",
     "output_type": "stream",
     "text": [
      "Recency (months)\n",
      "[0, 74]\n",
      "Frequency (times)\n",
      "[1, 50]\n",
      "Monetary (c.c. blood)\n",
      "[250, 12500]\n",
      "Time (months)\n",
      "[2, 98]\n",
      "whether he/she donated blood in March 2007\n",
      "[0, 1]\n"
     ]
    }
   ],
   "source": [
    "for name, col in data.iteritems():\n",
    "    print(name)\n",
    "    print(f'[{col.min()}, {col.max()}]')"
   ]
  },
  {
   "cell_type": "markdown",
   "metadata": {},
   "source": [
    "#### Outliers"
   ]
  },
  {
   "cell_type": "code",
   "execution_count": 7,
   "metadata": {},
   "outputs": [],
   "source": [
    "def is_outlier(ser):\n",
    "    z_score=0\n",
    "    for name, col in data.iteritems():\n",
    "        Mean = col.mean()\n",
    "        Std = col.std()\n",
    "        z_score = np.max([(ser[name]-Mean)/Std,z_score])\n",
    "    return z_score>2"
   ]
  },
  {
   "cell_type": "code",
   "execution_count": 8,
   "metadata": {},
   "outputs": [
    {
     "data": {
      "text/html": [
       "<div>\n",
       "<style scoped>\n",
       "    .dataframe tbody tr th:only-of-type {\n",
       "        vertical-align: middle;\n",
       "    }\n",
       "\n",
       "    .dataframe tbody tr th {\n",
       "        vertical-align: top;\n",
       "    }\n",
       "\n",
       "    .dataframe thead th {\n",
       "        text-align: right;\n",
       "    }\n",
       "</style>\n",
       "<table border=\"1\" class=\"dataframe\">\n",
       "  <thead>\n",
       "    <tr style=\"text-align: right;\">\n",
       "      <th></th>\n",
       "      <th>Recency (months)</th>\n",
       "      <th>Frequency (times)</th>\n",
       "      <th>Monetary (c.c. blood)</th>\n",
       "      <th>Time (months)</th>\n",
       "      <th>whether he/she donated blood in March 2007</th>\n",
       "      <th>outlier</th>\n",
       "    </tr>\n",
       "  </thead>\n",
       "  <tbody>\n",
       "    <tr>\n",
       "      <th>0</th>\n",
       "      <td>2</td>\n",
       "      <td>50</td>\n",
       "      <td>12500</td>\n",
       "      <td>98</td>\n",
       "      <td>1</td>\n",
       "      <td>True</td>\n",
       "    </tr>\n",
       "    <tr>\n",
       "      <th>3</th>\n",
       "      <td>2</td>\n",
       "      <td>20</td>\n",
       "      <td>5000</td>\n",
       "      <td>45</td>\n",
       "      <td>1</td>\n",
       "      <td>True</td>\n",
       "    </tr>\n",
       "    <tr>\n",
       "      <th>4</th>\n",
       "      <td>1</td>\n",
       "      <td>24</td>\n",
       "      <td>6000</td>\n",
       "      <td>77</td>\n",
       "      <td>0</td>\n",
       "      <td>True</td>\n",
       "    </tr>\n",
       "    <tr>\n",
       "      <th>9</th>\n",
       "      <td>5</td>\n",
       "      <td>46</td>\n",
       "      <td>11500</td>\n",
       "      <td>98</td>\n",
       "      <td>1</td>\n",
       "      <td>True</td>\n",
       "    </tr>\n",
       "    <tr>\n",
       "      <th>10</th>\n",
       "      <td>4</td>\n",
       "      <td>23</td>\n",
       "      <td>5750</td>\n",
       "      <td>58</td>\n",
       "      <td>0</td>\n",
       "      <td>True</td>\n",
       "    </tr>\n",
       "    <tr>\n",
       "      <th>44</th>\n",
       "      <td>4</td>\n",
       "      <td>20</td>\n",
       "      <td>5000</td>\n",
       "      <td>69</td>\n",
       "      <td>1</td>\n",
       "      <td>True</td>\n",
       "    </tr>\n",
       "    <tr>\n",
       "      <th>55</th>\n",
       "      <td>4</td>\n",
       "      <td>19</td>\n",
       "      <td>4750</td>\n",
       "      <td>69</td>\n",
       "      <td>1</td>\n",
       "      <td>True</td>\n",
       "    </tr>\n",
       "    <tr>\n",
       "      <th>96</th>\n",
       "      <td>3</td>\n",
       "      <td>17</td>\n",
       "      <td>4250</td>\n",
       "      <td>86</td>\n",
       "      <td>0</td>\n",
       "      <td>True</td>\n",
       "    </tr>\n",
       "    <tr>\n",
       "      <th>115</th>\n",
       "      <td>11</td>\n",
       "      <td>24</td>\n",
       "      <td>6000</td>\n",
       "      <td>64</td>\n",
       "      <td>0</td>\n",
       "      <td>True</td>\n",
       "    </tr>\n",
       "    <tr>\n",
       "      <th>131</th>\n",
       "      <td>2</td>\n",
       "      <td>12</td>\n",
       "      <td>3000</td>\n",
       "      <td>95</td>\n",
       "      <td>0</td>\n",
       "      <td>True</td>\n",
       "    </tr>\n",
       "    <tr>\n",
       "      <th>134</th>\n",
       "      <td>2</td>\n",
       "      <td>11</td>\n",
       "      <td>2750</td>\n",
       "      <td>88</td>\n",
       "      <td>0</td>\n",
       "      <td>True</td>\n",
       "    </tr>\n",
       "    <tr>\n",
       "      <th>137</th>\n",
       "      <td>2</td>\n",
       "      <td>12</td>\n",
       "      <td>3000</td>\n",
       "      <td>98</td>\n",
       "      <td>0</td>\n",
       "      <td>True</td>\n",
       "    </tr>\n",
       "    <tr>\n",
       "      <th>141</th>\n",
       "      <td>5</td>\n",
       "      <td>14</td>\n",
       "      <td>3500</td>\n",
       "      <td>86</td>\n",
       "      <td>0</td>\n",
       "      <td>True</td>\n",
       "    </tr>\n",
       "    <tr>\n",
       "      <th>183</th>\n",
       "      <td>4</td>\n",
       "      <td>12</td>\n",
       "      <td>3000</td>\n",
       "      <td>88</td>\n",
       "      <td>0</td>\n",
       "      <td>True</td>\n",
       "    </tr>\n",
       "    <tr>\n",
       "      <th>241</th>\n",
       "      <td>11</td>\n",
       "      <td>22</td>\n",
       "      <td>5500</td>\n",
       "      <td>98</td>\n",
       "      <td>0</td>\n",
       "      <td>True</td>\n",
       "    </tr>\n",
       "    <tr>\n",
       "      <th>247</th>\n",
       "      <td>7</td>\n",
       "      <td>12</td>\n",
       "      <td>3000</td>\n",
       "      <td>86</td>\n",
       "      <td>0</td>\n",
       "      <td>True</td>\n",
       "    </tr>\n",
       "    <tr>\n",
       "      <th>278</th>\n",
       "      <td>14</td>\n",
       "      <td>18</td>\n",
       "      <td>4500</td>\n",
       "      <td>78</td>\n",
       "      <td>0</td>\n",
       "      <td>True</td>\n",
       "    </tr>\n",
       "    <tr>\n",
       "      <th>327</th>\n",
       "      <td>14</td>\n",
       "      <td>16</td>\n",
       "      <td>4000</td>\n",
       "      <td>98</td>\n",
       "      <td>0</td>\n",
       "      <td>True</td>\n",
       "    </tr>\n",
       "    <tr>\n",
       "      <th>341</th>\n",
       "      <td>23</td>\n",
       "      <td>38</td>\n",
       "      <td>9500</td>\n",
       "      <td>98</td>\n",
       "      <td>0</td>\n",
       "      <td>True</td>\n",
       "    </tr>\n",
       "    <tr>\n",
       "      <th>395</th>\n",
       "      <td>16</td>\n",
       "      <td>10</td>\n",
       "      <td>2500</td>\n",
       "      <td>89</td>\n",
       "      <td>0</td>\n",
       "      <td>True</td>\n",
       "    </tr>\n",
       "    <tr>\n",
       "      <th>432</th>\n",
       "      <td>16</td>\n",
       "      <td>7</td>\n",
       "      <td>1750</td>\n",
       "      <td>87</td>\n",
       "      <td>1</td>\n",
       "      <td>True</td>\n",
       "    </tr>\n",
       "    <tr>\n",
       "      <th>435</th>\n",
       "      <td>16</td>\n",
       "      <td>7</td>\n",
       "      <td>1750</td>\n",
       "      <td>93</td>\n",
       "      <td>0</td>\n",
       "      <td>True</td>\n",
       "    </tr>\n",
       "    <tr>\n",
       "      <th>438</th>\n",
       "      <td>23</td>\n",
       "      <td>14</td>\n",
       "      <td>3500</td>\n",
       "      <td>93</td>\n",
       "      <td>0</td>\n",
       "      <td>True</td>\n",
       "    </tr>\n",
       "    <tr>\n",
       "      <th>439</th>\n",
       "      <td>18</td>\n",
       "      <td>8</td>\n",
       "      <td>2000</td>\n",
       "      <td>95</td>\n",
       "      <td>0</td>\n",
       "      <td>True</td>\n",
       "    </tr>\n",
       "    <tr>\n",
       "      <th>444</th>\n",
       "      <td>23</td>\n",
       "      <td>12</td>\n",
       "      <td>3000</td>\n",
       "      <td>86</td>\n",
       "      <td>0</td>\n",
       "      <td>True</td>\n",
       "    </tr>\n",
       "    <tr>\n",
       "      <th>475</th>\n",
       "      <td>26</td>\n",
       "      <td>5</td>\n",
       "      <td>1250</td>\n",
       "      <td>49</td>\n",
       "      <td>1</td>\n",
       "      <td>True</td>\n",
       "    </tr>\n",
       "    <tr>\n",
       "      <th>486</th>\n",
       "      <td>21</td>\n",
       "      <td>6</td>\n",
       "      <td>1500</td>\n",
       "      <td>86</td>\n",
       "      <td>0</td>\n",
       "      <td>True</td>\n",
       "    </tr>\n",
       "    <tr>\n",
       "      <th>492</th>\n",
       "      <td>23</td>\n",
       "      <td>4</td>\n",
       "      <td>1000</td>\n",
       "      <td>87</td>\n",
       "      <td>0</td>\n",
       "      <td>True</td>\n",
       "    </tr>\n",
       "    <tr>\n",
       "      <th>493</th>\n",
       "      <td>23</td>\n",
       "      <td>3</td>\n",
       "      <td>750</td>\n",
       "      <td>89</td>\n",
       "      <td>0</td>\n",
       "      <td>True</td>\n",
       "    </tr>\n",
       "    <tr>\n",
       "      <th>494</th>\n",
       "      <td>23</td>\n",
       "      <td>2</td>\n",
       "      <td>500</td>\n",
       "      <td>87</td>\n",
       "      <td>0</td>\n",
       "      <td>True</td>\n",
       "    </tr>\n",
       "    <tr>\n",
       "      <th>495</th>\n",
       "      <td>35</td>\n",
       "      <td>3</td>\n",
       "      <td>750</td>\n",
       "      <td>64</td>\n",
       "      <td>0</td>\n",
       "      <td>True</td>\n",
       "    </tr>\n",
       "    <tr>\n",
       "      <th>496</th>\n",
       "      <td>38</td>\n",
       "      <td>1</td>\n",
       "      <td>250</td>\n",
       "      <td>38</td>\n",
       "      <td>0</td>\n",
       "      <td>True</td>\n",
       "    </tr>\n",
       "    <tr>\n",
       "      <th>497</th>\n",
       "      <td>38</td>\n",
       "      <td>1</td>\n",
       "      <td>250</td>\n",
       "      <td>38</td>\n",
       "      <td>0</td>\n",
       "      <td>True</td>\n",
       "    </tr>\n",
       "    <tr>\n",
       "      <th>498</th>\n",
       "      <td>40</td>\n",
       "      <td>1</td>\n",
       "      <td>250</td>\n",
       "      <td>40</td>\n",
       "      <td>0</td>\n",
       "      <td>True</td>\n",
       "    </tr>\n",
       "    <tr>\n",
       "      <th>499</th>\n",
       "      <td>74</td>\n",
       "      <td>1</td>\n",
       "      <td>250</td>\n",
       "      <td>74</td>\n",
       "      <td>0</td>\n",
       "      <td>True</td>\n",
       "    </tr>\n",
       "    <tr>\n",
       "      <th>500</th>\n",
       "      <td>2</td>\n",
       "      <td>43</td>\n",
       "      <td>10750</td>\n",
       "      <td>86</td>\n",
       "      <td>1</td>\n",
       "      <td>True</td>\n",
       "    </tr>\n",
       "    <tr>\n",
       "      <th>501</th>\n",
       "      <td>6</td>\n",
       "      <td>22</td>\n",
       "      <td>5500</td>\n",
       "      <td>28</td>\n",
       "      <td>1</td>\n",
       "      <td>True</td>\n",
       "    </tr>\n",
       "    <tr>\n",
       "      <th>502</th>\n",
       "      <td>2</td>\n",
       "      <td>34</td>\n",
       "      <td>8500</td>\n",
       "      <td>77</td>\n",
       "      <td>1</td>\n",
       "      <td>True</td>\n",
       "    </tr>\n",
       "    <tr>\n",
       "      <th>503</th>\n",
       "      <td>2</td>\n",
       "      <td>44</td>\n",
       "      <td>11000</td>\n",
       "      <td>98</td>\n",
       "      <td>0</td>\n",
       "      <td>True</td>\n",
       "    </tr>\n",
       "    <tr>\n",
       "      <th>504</th>\n",
       "      <td>0</td>\n",
       "      <td>26</td>\n",
       "      <td>6500</td>\n",
       "      <td>76</td>\n",
       "      <td>1</td>\n",
       "      <td>True</td>\n",
       "    </tr>\n",
       "    <tr>\n",
       "      <th>505</th>\n",
       "      <td>2</td>\n",
       "      <td>41</td>\n",
       "      <td>10250</td>\n",
       "      <td>98</td>\n",
       "      <td>1</td>\n",
       "      <td>True</td>\n",
       "    </tr>\n",
       "    <tr>\n",
       "      <th>506</th>\n",
       "      <td>3</td>\n",
       "      <td>21</td>\n",
       "      <td>5250</td>\n",
       "      <td>42</td>\n",
       "      <td>1</td>\n",
       "      <td>True</td>\n",
       "    </tr>\n",
       "    <tr>\n",
       "      <th>508</th>\n",
       "      <td>2</td>\n",
       "      <td>21</td>\n",
       "      <td>5250</td>\n",
       "      <td>52</td>\n",
       "      <td>1</td>\n",
       "      <td>True</td>\n",
       "    </tr>\n",
       "    <tr>\n",
       "      <th>517</th>\n",
       "      <td>4</td>\n",
       "      <td>33</td>\n",
       "      <td>8250</td>\n",
       "      <td>98</td>\n",
       "      <td>1</td>\n",
       "      <td>True</td>\n",
       "    </tr>\n",
       "    <tr>\n",
       "      <th>528</th>\n",
       "      <td>5</td>\n",
       "      <td>24</td>\n",
       "      <td>6000</td>\n",
       "      <td>79</td>\n",
       "      <td>0</td>\n",
       "      <td>True</td>\n",
       "    </tr>\n",
       "    <tr>\n",
       "      <th>544</th>\n",
       "      <td>1</td>\n",
       "      <td>14</td>\n",
       "      <td>3500</td>\n",
       "      <td>95</td>\n",
       "      <td>0</td>\n",
       "      <td>True</td>\n",
       "    </tr>\n",
       "    <tr>\n",
       "      <th>562</th>\n",
       "      <td>4</td>\n",
       "      <td>16</td>\n",
       "      <td>4000</td>\n",
       "      <td>98</td>\n",
       "      <td>1</td>\n",
       "      <td>True</td>\n",
       "    </tr>\n",
       "    <tr>\n",
       "      <th>564</th>\n",
       "      <td>4</td>\n",
       "      <td>14</td>\n",
       "      <td>3500</td>\n",
       "      <td>86</td>\n",
       "      <td>0</td>\n",
       "      <td>True</td>\n",
       "    </tr>\n",
       "    <tr>\n",
       "      <th>605</th>\n",
       "      <td>4</td>\n",
       "      <td>11</td>\n",
       "      <td>2750</td>\n",
       "      <td>95</td>\n",
       "      <td>0</td>\n",
       "      <td>True</td>\n",
       "    </tr>\n",
       "    <tr>\n",
       "      <th>629</th>\n",
       "      <td>7</td>\n",
       "      <td>11</td>\n",
       "      <td>2750</td>\n",
       "      <td>89</td>\n",
       "      <td>0</td>\n",
       "      <td>True</td>\n",
       "    </tr>\n",
       "    <tr>\n",
       "      <th>635</th>\n",
       "      <td>11</td>\n",
       "      <td>16</td>\n",
       "      <td>4000</td>\n",
       "      <td>89</td>\n",
       "      <td>0</td>\n",
       "      <td>True</td>\n",
       "    </tr>\n",
       "    <tr>\n",
       "      <th>639</th>\n",
       "      <td>7</td>\n",
       "      <td>9</td>\n",
       "      <td>2250</td>\n",
       "      <td>89</td>\n",
       "      <td>1</td>\n",
       "      <td>True</td>\n",
       "    </tr>\n",
       "    <tr>\n",
       "      <th>672</th>\n",
       "      <td>16</td>\n",
       "      <td>15</td>\n",
       "      <td>3750</td>\n",
       "      <td>87</td>\n",
       "      <td>0</td>\n",
       "      <td>True</td>\n",
       "    </tr>\n",
       "    <tr>\n",
       "      <th>677</th>\n",
       "      <td>23</td>\n",
       "      <td>19</td>\n",
       "      <td>4750</td>\n",
       "      <td>62</td>\n",
       "      <td>0</td>\n",
       "      <td>True</td>\n",
       "    </tr>\n",
       "    <tr>\n",
       "      <th>741</th>\n",
       "      <td>23</td>\n",
       "      <td>7</td>\n",
       "      <td>1750</td>\n",
       "      <td>88</td>\n",
       "      <td>0</td>\n",
       "      <td>True</td>\n",
       "    </tr>\n",
       "    <tr>\n",
       "      <th>742</th>\n",
       "      <td>16</td>\n",
       "      <td>3</td>\n",
       "      <td>750</td>\n",
       "      <td>86</td>\n",
       "      <td>0</td>\n",
       "      <td>True</td>\n",
       "    </tr>\n",
       "    <tr>\n",
       "      <th>746</th>\n",
       "      <td>39</td>\n",
       "      <td>1</td>\n",
       "      <td>250</td>\n",
       "      <td>39</td>\n",
       "      <td>0</td>\n",
       "      <td>True</td>\n",
       "    </tr>\n",
       "    <tr>\n",
       "      <th>747</th>\n",
       "      <td>72</td>\n",
       "      <td>1</td>\n",
       "      <td>250</td>\n",
       "      <td>72</td>\n",
       "      <td>0</td>\n",
       "      <td>True</td>\n",
       "    </tr>\n",
       "  </tbody>\n",
       "</table>\n",
       "</div>"
      ],
      "text/plain": [
       "     Recency (months)  Frequency (times)  Monetary (c.c. blood)  \\\n",
       "0                   2                 50                  12500   \n",
       "3                   2                 20                   5000   \n",
       "4                   1                 24                   6000   \n",
       "9                   5                 46                  11500   \n",
       "10                  4                 23                   5750   \n",
       "44                  4                 20                   5000   \n",
       "55                  4                 19                   4750   \n",
       "96                  3                 17                   4250   \n",
       "115                11                 24                   6000   \n",
       "131                 2                 12                   3000   \n",
       "134                 2                 11                   2750   \n",
       "137                 2                 12                   3000   \n",
       "141                 5                 14                   3500   \n",
       "183                 4                 12                   3000   \n",
       "241                11                 22                   5500   \n",
       "247                 7                 12                   3000   \n",
       "278                14                 18                   4500   \n",
       "327                14                 16                   4000   \n",
       "341                23                 38                   9500   \n",
       "395                16                 10                   2500   \n",
       "432                16                  7                   1750   \n",
       "435                16                  7                   1750   \n",
       "438                23                 14                   3500   \n",
       "439                18                  8                   2000   \n",
       "444                23                 12                   3000   \n",
       "475                26                  5                   1250   \n",
       "486                21                  6                   1500   \n",
       "492                23                  4                   1000   \n",
       "493                23                  3                    750   \n",
       "494                23                  2                    500   \n",
       "495                35                  3                    750   \n",
       "496                38                  1                    250   \n",
       "497                38                  1                    250   \n",
       "498                40                  1                    250   \n",
       "499                74                  1                    250   \n",
       "500                 2                 43                  10750   \n",
       "501                 6                 22                   5500   \n",
       "502                 2                 34                   8500   \n",
       "503                 2                 44                  11000   \n",
       "504                 0                 26                   6500   \n",
       "505                 2                 41                  10250   \n",
       "506                 3                 21                   5250   \n",
       "508                 2                 21                   5250   \n",
       "517                 4                 33                   8250   \n",
       "528                 5                 24                   6000   \n",
       "544                 1                 14                   3500   \n",
       "562                 4                 16                   4000   \n",
       "564                 4                 14                   3500   \n",
       "605                 4                 11                   2750   \n",
       "629                 7                 11                   2750   \n",
       "635                11                 16                   4000   \n",
       "639                 7                  9                   2250   \n",
       "672                16                 15                   3750   \n",
       "677                23                 19                   4750   \n",
       "741                23                  7                   1750   \n",
       "742                16                  3                    750   \n",
       "746                39                  1                    250   \n",
       "747                72                  1                    250   \n",
       "\n",
       "     Time (months)  whether he/she donated blood in March 2007  outlier  \n",
       "0               98                                           1     True  \n",
       "3               45                                           1     True  \n",
       "4               77                                           0     True  \n",
       "9               98                                           1     True  \n",
       "10              58                                           0     True  \n",
       "44              69                                           1     True  \n",
       "55              69                                           1     True  \n",
       "96              86                                           0     True  \n",
       "115             64                                           0     True  \n",
       "131             95                                           0     True  \n",
       "134             88                                           0     True  \n",
       "137             98                                           0     True  \n",
       "141             86                                           0     True  \n",
       "183             88                                           0     True  \n",
       "241             98                                           0     True  \n",
       "247             86                                           0     True  \n",
       "278             78                                           0     True  \n",
       "327             98                                           0     True  \n",
       "341             98                                           0     True  \n",
       "395             89                                           0     True  \n",
       "432             87                                           1     True  \n",
       "435             93                                           0     True  \n",
       "438             93                                           0     True  \n",
       "439             95                                           0     True  \n",
       "444             86                                           0     True  \n",
       "475             49                                           1     True  \n",
       "486             86                                           0     True  \n",
       "492             87                                           0     True  \n",
       "493             89                                           0     True  \n",
       "494             87                                           0     True  \n",
       "495             64                                           0     True  \n",
       "496             38                                           0     True  \n",
       "497             38                                           0     True  \n",
       "498             40                                           0     True  \n",
       "499             74                                           0     True  \n",
       "500             86                                           1     True  \n",
       "501             28                                           1     True  \n",
       "502             77                                           1     True  \n",
       "503             98                                           0     True  \n",
       "504             76                                           1     True  \n",
       "505             98                                           1     True  \n",
       "506             42                                           1     True  \n",
       "508             52                                           1     True  \n",
       "517             98                                           1     True  \n",
       "528             79                                           0     True  \n",
       "544             95                                           0     True  \n",
       "562             98                                           1     True  \n",
       "564             86                                           0     True  \n",
       "605             95                                           0     True  \n",
       "629             89                                           0     True  \n",
       "635             89                                           0     True  \n",
       "639             89                                           1     True  \n",
       "672             87                                           0     True  \n",
       "677             62                                           0     True  \n",
       "741             88                                           0     True  \n",
       "742             86                                           0     True  \n",
       "746             39                                           0     True  \n",
       "747             72                                           0     True  "
      ]
     },
     "execution_count": 8,
     "metadata": {},
     "output_type": "execute_result"
    }
   ],
   "source": [
    "data['outlier'] = data.apply(is_outlier, axis=1)\n",
    "data[data['outlier']==1]"
   ]
  },
  {
   "cell_type": "markdown",
   "metadata": {},
   "source": [
    "Recency: As time is measured in months, no cap is placed on the oultiers.\n"
   ]
  },
  {
   "cell_type": "markdown",
   "metadata": {},
   "source": [
    "## Step 5"
   ]
  },
  {
   "cell_type": "markdown",
   "metadata": {},
   "source": [
    "#### Null Values"
   ]
  },
  {
   "cell_type": "code",
   "execution_count": 11,
   "metadata": {},
   "outputs": [
    {
     "data": {
      "text/plain": [
       "Recency (months)                              0\n",
       "Frequency (times)                             0\n",
       "Monetary (c.c. blood)                         0\n",
       "Time (months)                                 0\n",
       "whether he/she donated blood in March 2007    0\n",
       "outlier                                       0\n",
       "dtype: int64"
      ]
     },
     "execution_count": 11,
     "metadata": {},
     "output_type": "execute_result"
    }
   ],
   "source": [
    "data.isnull().sum()"
   ]
  },
  {
   "cell_type": "markdown",
   "metadata": {},
   "source": [
    "No Null Values"
   ]
  },
  {
   "cell_type": "markdown",
   "metadata": {},
   "source": [
    "#### Outlier Removal"
   ]
  },
  {
   "cell_type": "code",
   "execution_count": 13,
   "metadata": {},
   "outputs": [],
   "source": [
    "data_non = data[data['outlier']==0]"
   ]
  },
  {
   "cell_type": "markdown",
   "metadata": {},
   "source": [
    "#### Final Data"
   ]
  },
  {
   "cell_type": "code",
   "execution_count": 29,
   "metadata": {},
   "outputs": [],
   "source": [
    "X_var_list = [name for name in data.columns if name not in ['whether he/she donated blood in March 2007', 'outlier']]\n",
    "\n",
    "X = data_non[X_var_list]\n",
    "\n",
    "y = data_non['whether he/she donated blood in March 2007']"
   ]
  },
  {
   "cell_type": "markdown",
   "metadata": {},
   "source": [
    "#### Normalisation"
   ]
  },
  {
   "cell_type": "code",
   "execution_count": 21,
   "metadata": {},
   "outputs": [],
   "source": [
    "from sklearn.preprocessing import Normalizer as Norm"
   ]
  },
  {
   "cell_type": "code",
   "execution_count": 30,
   "metadata": {},
   "outputs": [],
   "source": [
    "Transformer = Norm().fit(X)\n",
    "\n",
    "X_norm = Transformer.transform(X)"
   ]
  },
  {
   "cell_type": "markdown",
   "metadata": {},
   "source": [
    "## Step 6"
   ]
  },
  {
   "cell_type": "markdown",
   "metadata": {},
   "source": [
    "## Step 7"
   ]
  },
  {
   "cell_type": "code",
   "execution_count": 45,
   "metadata": {},
   "outputs": [],
   "source": [
    "from sklearn.model_selection import train_test_split\n",
    "\n",
    "X_train, X_test, y_train, y_test = train_test_split(X_norm, y, test_size=0.2)"
   ]
  },
  {
   "cell_type": "markdown",
   "metadata": {},
   "source": [
    "## Step 8"
   ]
  },
  {
   "cell_type": "code",
   "execution_count": 46,
   "metadata": {},
   "outputs": [],
   "source": [
    "from sklearn.tree import DecisionTreeClassifier as DTC\n",
    "\n",
    "model = DTC()"
   ]
  },
  {
   "cell_type": "markdown",
   "metadata": {},
   "source": [
    "## Step 9"
   ]
  },
  {
   "cell_type": "code",
   "execution_count": 47,
   "metadata": {},
   "outputs": [],
   "source": [
    "fitted_model = model.fit(X_train, y_train)"
   ]
  },
  {
   "cell_type": "markdown",
   "metadata": {},
   "source": [
    "## Step 10"
   ]
  },
  {
   "cell_type": "code",
   "execution_count": 48,
   "metadata": {},
   "outputs": [
    {
     "name": "stdout",
     "output_type": "stream",
     "text": [
      "0.9184782608695652\n"
     ]
    }
   ],
   "source": [
    "predicted_train = fitted_model.predict(X_train)\n",
    "\n",
    "from sklearn.metrics import accuracy_score as AS\n",
    "\n",
    "print(AS(predicted_train, y_train))"
   ]
  },
  {
   "cell_type": "markdown",
   "metadata": {},
   "source": [
    "## Step 11"
   ]
  },
  {
   "cell_type": "code",
   "execution_count": 49,
   "metadata": {},
   "outputs": [
    {
     "name": "stdout",
     "output_type": "stream",
     "text": [
      "0.7463768115942029\n"
     ]
    }
   ],
   "source": [
    "predicted_test = fitted_model.predict(X_test)\n",
    "\n",
    "print(AS(predicted_test, y_test))"
   ]
  },
  {
   "cell_type": "markdown",
   "metadata": {
    "colab_type": "text",
    "id": "RERADKgNFq9T"
   },
   "source": [
    "# \n",
    "---\n",
    "\n",
    "\n",
    "\n",
    "---\n",
    "\n",
    "\n",
    "\n",
    "> > > > > > > > > © 2021 Institute of Data\n",
    "\n",
    "\n",
    "---\n",
    "\n",
    "\n",
    "\n",
    "---\n",
    "\n",
    "\n",
    "\n"
   ]
  },
  {
   "cell_type": "code",
   "execution_count": null,
   "metadata": {},
   "outputs": [],
   "source": []
  },
  {
   "cell_type": "code",
   "execution_count": null,
   "metadata": {},
   "outputs": [],
   "source": []
  }
 ],
 "metadata": {
  "colab": {
   "collapsed_sections": [],
   "name": "DSIA Lab-7_1.ipynb",
   "provenance": []
  },
  "kernelspec": {
   "display_name": "Python 3",
   "language": "python",
   "name": "python3"
  },
  "language_info": {
   "codemirror_mode": {
    "name": "ipython",
    "version": 3
   },
   "file_extension": ".py",
   "mimetype": "text/x-python",
   "name": "python",
   "nbconvert_exporter": "python",
   "pygments_lexer": "ipython3",
   "version": "3.8.5"
  }
 },
 "nbformat": 4,
 "nbformat_minor": 1
}
