{
 "cells": [
  {
   "cell_type": "markdown",
   "metadata": {},
   "source": [
    "# Capstone Project - Credit Card Default Prediction"
   ]
  },
  {
   "cell_type": "markdown",
   "metadata": {},
   "source": [
    "### Data source:\n",
    " - https://archive.ics.uci.edu/ml/datasets/default+of+credit+card+clients"
   ]
  },
  {
   "cell_type": "markdown",
   "metadata": {},
   "source": [
    "## Import packages and data into environment"
   ]
  },
  {
   "cell_type": "code",
   "execution_count": 1,
   "metadata": {},
   "outputs": [],
   "source": [
    "#--Import os and time packages, and set seed--#\n",
    "\n",
    "import time\n",
    "import os\n",
    "#os.chdir('D:\\\\')\n",
    "\n",
    "import random\n",
    "random.seed(2591697151059353230)"
   ]
  },
  {
   "cell_type": "code",
   "execution_count": 2,
   "metadata": {},
   "outputs": [],
   "source": [
    "#--Import packages for data wrangling and analysis--#\n",
    "\n",
    "import pandas as pd\n",
    "import numpy as np\n",
    "import matplotlib.pyplot as plt\n",
    "\n",
    "from scipy.stats import norm #-- for quantile comparison"
   ]
  },
  {
   "cell_type": "code",
   "execution_count": 3,
   "metadata": {},
   "outputs": [],
   "source": [
    "#--Define function generating normal QQ plots--#\n",
    "\n",
    "def ser_quantile_plot(series, n=1000):\n",
    "    mu = series.mean()\n",
    "    sig = series.std()\n",
    "    normed_series = (series-mu)/sig\n",
    "    my_range = (np.arange(n)+1)/(n+1)\n",
    "    my_x = []\n",
    "    my_y = []\n",
    "    for i in my_range:\n",
    "        x = norm.ppf(i, loc=0, scale=1)\n",
    "        y = normed_series.quantile(i)\n",
    "        my_x = my_x + [x]\n",
    "        my_y = my_y + [y]\n",
    "    my_x = np.array(my_x)\n",
    "    my_y = np.array(my_y)\n",
    "    my_min = my_x.min()\n",
    "    my_max = my_x.max()\n",
    "    my_vec = [my_min, my_max]\n",
    "    plt.plot(my_x, my_y)\n",
    "    plt.plot(my_vec, my_vec, color='red', linestyle = '--')\n",
    "    plt.show()"
   ]
  },
  {
   "cell_type": "code",
   "execution_count": 5,
   "metadata": {},
   "outputs": [
    {
     "data": {
      "text/plain": [
       "['deepfake-detection-challenge',\n",
       " '.DS_Store',\n",
       " 'Icon\\r',\n",
       " 'Untitled.ipynb',\n",
       " 'default-of-credit-card-clients.csv',\n",
       " '_Capstone_Notebook.ipynb',\n",
       " '.ipynb_checkpoints']"
      ]
     },
     "execution_count": 5,
     "metadata": {},
     "output_type": "execute_result"
    }
   ],
   "source": [
    "os.listdir()"
   ]
  },
  {
   "cell_type": "code",
   "execution_count": 6,
   "metadata": {},
   "outputs": [],
   "source": [
    "#--Read default data into environment--#\n",
    "\n",
    "my_data = pd.read_csv('default-of-credit-card-clients.csv')\n",
    "my_data = my_data.loc[:,'LIMIT_BAL':'default payment next month'] #--remove unusable 'ID' variable"
   ]
  },
  {
   "cell_type": "code",
   "execution_count": 7,
   "metadata": {},
   "outputs": [],
   "source": [
    "#--Remove entries with unusual values--#\n",
    "\n",
    "my_data = my_data[my_data.MARRIAGE <3]\n",
    "my_data = my_data[my_data.MARRIAGE >0]\n",
    "\n",
    "my_data = my_data[my_data.BILL_AMT1 >-2500]\n",
    "my_data = my_data[my_data.BILL_AMT2 >-2500]\n",
    "my_data = my_data[my_data.BILL_AMT3 >-2500]\n",
    "my_data = my_data[my_data.BILL_AMT4 >-2500]\n",
    "my_data = my_data[my_data.BILL_AMT5 >-2500]\n",
    "my_data = my_data[my_data.BILL_AMT6 >-2500]"
   ]
  },
  {
   "cell_type": "code",
   "execution_count": 8,
   "metadata": {},
   "outputs": [],
   "source": [
    "#--Define function for QQ plots of attributes with function 'fun'--# \n",
    "\n",
    "def data_qplot(name, fun=lambda x:x):\n",
    "    return ser_quantile_plot(my_data[name].apply(fun))"
   ]
  },
  {
   "cell_type": "markdown",
   "metadata": {},
   "source": [
    "## EXPLORATORY DATA ANALYSIS"
   ]
  },
  {
   "cell_type": "code",
   "execution_count": 9,
   "metadata": {},
   "outputs": [
    {
     "data": {
      "text/plain": [
       "LIMIT_BAL                    -0.153745\n",
       "SEX                          -0.039244\n",
       "EDUCATION                     0.029292\n",
       "MARRIAGE                     -0.031499\n",
       "AGE                           0.013298\n",
       "PAY_0                         0.327231\n",
       "PAY_2                         0.265271\n",
       "PAY_3                         0.235321\n",
       "PAY_4                         0.216844\n",
       "PAY_5                         0.204942\n",
       "PAY_6                         0.187850\n",
       "BILL_AMT1                    -0.020341\n",
       "BILL_AMT2                    -0.014396\n",
       "BILL_AMT3                    -0.013706\n",
       "BILL_AMT4                    -0.010574\n",
       "BILL_AMT5                    -0.006774\n",
       "BILL_AMT6                    -0.004981\n",
       "PAY_AMT1                     -0.076768\n",
       "PAY_AMT2                     -0.067170\n",
       "PAY_AMT3                     -0.059617\n",
       "PAY_AMT4                     -0.058911\n",
       "PAY_AMT5                     -0.057082\n",
       "PAY_AMT6                     -0.055492\n",
       "default payment next month    1.000000\n",
       "Name: default payment next month, dtype: float64"
      ]
     },
     "execution_count": 9,
     "metadata": {},
     "output_type": "execute_result"
    }
   ],
   "source": [
    "#--Check correlations--#\n",
    "\n",
    "def_corr = pd.DataFrame(my_data.corr())['default payment next month']\n",
    "def_corr"
   ]
  },
  {
   "cell_type": "markdown",
   "metadata": {},
   "source": [
    "### Example of function effect:"
   ]
  },
  {
   "cell_type": "code",
   "execution_count": 10,
   "metadata": {},
   "outputs": [
    {
     "name": "stdout",
     "output_type": "stream",
     "text": [
      "PAY_AMT1\n"
     ]
    },
    {
     "data": {
      "image/png": "[encoded data removed]",
      "text/plain": [
       "<Figure size 432x288 with 1 Axes>"
      ]
     },
     "metadata": {
      "needs_background": "light"
     },
     "output_type": "display_data"
    }
   ],
   "source": [
    "#-- QQ plot for BILL_AMT1 variable--#\n",
    "\n",
    "print('PAY_AMT1')\n",
    "data_qplot('BILL_AMT1')"
   ]
  },
  {
   "cell_type": "code",
   "execution_count": 11,
   "metadata": {},
   "outputs": [
    {
     "name": "stdout",
     "output_type": "stream",
     "text": [
      "log(PAY_AMT1+2500)\n"
     ]
    },
    {
     "data": {
      "image/png": "[encoded data removed]",
      "text/plain": [
       "<Figure size 432x288 with 1 Axes>"
      ]
     },
     "metadata": {
      "needs_background": "light"
     },
     "output_type": "display_data"
    }
   ],
   "source": [
    "#-- QQ plot for BILL_AMT1 variable with log function--#\n",
    "\n",
    "print('log(PAY_AMT1+2500)')\n",
    "data_qplot('BILL_AMT1', lambda x: np.log(x+2500))"
   ]
  },
  {
   "cell_type": "markdown",
   "metadata": {},
   "source": [
    "## Example PAY_AMT variable histograms:"
   ]
  },
  {
   "cell_type": "code",
   "execution_count": 12,
   "metadata": {},
   "outputs": [
    {
     "name": "stdout",
     "output_type": "stream",
     "text": [
      "PAY_AMT1\n"
     ]
    },
    {
     "data": {
      "image/png": "[encoded data removed]",
      "text/plain": [
       "<Figure size 432x288 with 1 Axes>"
      ]
     },
     "metadata": {
      "needs_background": "light"
     },
     "output_type": "display_data"
    }
   ],
   "source": [
    "#-- histogram of PAY_AMT1 variable--#\n",
    "\n",
    "print('PAY_AMT1')\n",
    "my_data['PAY_AMT1'].hist(bins=150)\n",
    "plt.show()"
   ]
  },
  {
   "cell_type": "code",
   "execution_count": 13,
   "metadata": {},
   "outputs": [
    {
     "name": "stdout",
     "output_type": "stream",
     "text": [
      "log(PAY_AMT1+1)\n"
     ]
    },
    {
     "data": {
      "image/png": "[encoded data removed]",
      "text/plain": [
       "<Figure size 432x288 with 1 Axes>"
      ]
     },
     "metadata": {
      "needs_background": "light"
     },
     "output_type": "display_data"
    }
   ],
   "source": [
    "#--Histogram of log(PAY_AMT1 +1)--#\n",
    "\n",
    "print('log(PAY_AMT1+1)')\n",
    "my_data['PAY_AMT1'].apply(lambda x: np.log(x+1)).hist(bins=150)\n",
    "plt.show()"
   ]
  },
  {
   "cell_type": "code",
   "execution_count": 14,
   "metadata": {},
   "outputs": [],
   "source": [
    "#--Defines functions to create indicator and continuous parts of PAY variable--#\n",
    "\n",
    "def pay_is_zero(value):\n",
    "    if value == 0:\n",
    "        return 1\n",
    "    else:\n",
    "        return 0\n",
    "    \n",
    "def pay_positive(value):\n",
    "    if value > 0:\n",
    "        return np.log(value)\n",
    "    else:\n",
    "        return np.nan"
   ]
  },
  {
   "cell_type": "code",
   "execution_count": 15,
   "metadata": {},
   "outputs": [],
   "source": [
    "#--Creates copy of data for transformation-##\n",
    "\n",
    "t_data = my_data.copy()"
   ]
  },
  {
   "cell_type": "code",
   "execution_count": 16,
   "metadata": {},
   "outputs": [],
   "source": [
    "#--Apply transformations to normalise numerical data--#\n",
    "\n",
    "t_data['LIMIT_BAL']   = my_data.LIMIT_BAL.apply(lambda x: x**0.5)\n",
    "t_data['SEX']       = my_data.SEX.apply(lambda x: x-1)\n",
    "t_data['EDUCATION'] = my_data.EDUCATION.apply(lambda x: x)\n",
    "t_data['MARRIAGE']  = my_data.MARRIAGE.apply(lambda x: x-1)\n",
    "t_data['AGE']       = my_data.AGE.apply(lambda x: x**0.5)\n",
    "t_data['PAY_0']  = my_data.PAY_0.apply(lambda x: x)\n",
    "\n",
    "t_data['BILL_AMT1'] = my_data.BILL_AMT1.apply(lambda x:np.log(x+2500))\n",
    "t_data['BILL_AMT2'] = my_data.BILL_AMT2.apply(lambda x:np.log(x+2500))\n",
    "t_data['BILL_AMT3'] = my_data.BILL_AMT3.apply(lambda x:np.log(x+2500))\n",
    "t_data['BILL_AMT4'] = my_data.BILL_AMT4.apply(lambda x:np.log(x+2500))\n",
    "t_data['BILL_AMT5'] = my_data.BILL_AMT5.apply(lambda x:np.log(x+2500))\n",
    "t_data['BILL_AMT6'] = my_data.BILL_AMT6.apply(lambda x:np.log(x+2500))\n",
    "\n",
    "#--Separates PAY variables into discrete indicators of 0, and positive parts-#\n",
    "\n",
    "t_data['PAY_AMT1_is_0'] = my_data.PAY_AMT1.apply(pay_is_zero)\n",
    "t_data['PAY_AMT1_>_0']  = my_data.PAY_AMT1.apply(pay_positive)\n",
    "\n",
    "t_data['PAY_AMT2_is_0'] = my_data.PAY_AMT2.apply(pay_is_zero)\n",
    "t_data['PAY_AMT2_>_0']  = my_data.PAY_AMT2.apply(pay_positive)\n",
    "\n",
    "t_data['PAY_AMT3_is_0'] = my_data.PAY_AMT3.apply(pay_is_zero)\n",
    "t_data['PAY_AMT3_>_0']  = my_data.PAY_AMT3.apply(pay_positive)\n",
    "\n",
    "t_data['PAY_AMT4_is_0'] = my_data.PAY_AMT4.apply(pay_is_zero)\n",
    "t_data['PAY_AMT4_>_0']  = my_data.PAY_AMT4.apply(pay_positive)\n",
    "\n",
    "t_data['PAY_AMT5_is_0'] = my_data.PAY_AMT5.apply(pay_is_zero)\n",
    "t_data['PAY_AMT5_>_0']  = my_data.PAY_AMT5.apply(pay_positive)\n",
    "\n",
    "t_data['PAY_AMT6_is_0'] = my_data.PAY_AMT6.apply(pay_is_zero)\n",
    "t_data['PAY_AMT6_>_0']  = my_data.PAY_AMT6.apply(pay_positive)"
   ]
  },
  {
   "cell_type": "code",
   "execution_count": 17,
   "metadata": {},
   "outputs": [
    {
     "data": {
      "text/html": [
       "<div>\n",
       "<style scoped>\n",
       "    .dataframe tbody tr th:only-of-type {\n",
       "        vertical-align: middle;\n",
       "    }\n",
       "\n",
       "    .dataframe tbody tr th {\n",
       "        vertical-align: top;\n",
       "    }\n",
       "\n",
       "    .dataframe thead th {\n",
       "        text-align: right;\n",
       "    }\n",
       "</style>\n",
       "<table border=\"1\" class=\"dataframe\">\n",
       "  <thead>\n",
       "    <tr style=\"text-align: right;\">\n",
       "      <th></th>\n",
       "      <th>LIMIT_BAL</th>\n",
       "      <th>SEX</th>\n",
       "      <th>EDUCATION</th>\n",
       "      <th>MARRIAGE</th>\n",
       "      <th>AGE</th>\n",
       "      <th>PAY_0</th>\n",
       "      <th>PAY_2</th>\n",
       "      <th>PAY_3</th>\n",
       "      <th>PAY_4</th>\n",
       "      <th>PAY_5</th>\n",
       "      <th>...</th>\n",
       "      <th>PAY_AMT2_is_0</th>\n",
       "      <th>PAY_AMT2_&gt;_0</th>\n",
       "      <th>PAY_AMT3_is_0</th>\n",
       "      <th>PAY_AMT3_&gt;_0</th>\n",
       "      <th>PAY_AMT4_is_0</th>\n",
       "      <th>PAY_AMT4_&gt;_0</th>\n",
       "      <th>PAY_AMT5_is_0</th>\n",
       "      <th>PAY_AMT5_&gt;_0</th>\n",
       "      <th>PAY_AMT6_is_0</th>\n",
       "      <th>PAY_AMT6_&gt;_0</th>\n",
       "    </tr>\n",
       "  </thead>\n",
       "  <tbody>\n",
       "    <tr>\n",
       "      <th>0</th>\n",
       "      <td>141.421356</td>\n",
       "      <td>1</td>\n",
       "      <td>2</td>\n",
       "      <td>0</td>\n",
       "      <td>4.898979</td>\n",
       "      <td>2</td>\n",
       "      <td>2</td>\n",
       "      <td>-1</td>\n",
       "      <td>-1</td>\n",
       "      <td>-2</td>\n",
       "      <td>...</td>\n",
       "      <td>0</td>\n",
       "      <td>6.535241</td>\n",
       "      <td>1</td>\n",
       "      <td>NaN</td>\n",
       "      <td>1</td>\n",
       "      <td>NaN</td>\n",
       "      <td>1</td>\n",
       "      <td>NaN</td>\n",
       "      <td>1</td>\n",
       "      <td>NaN</td>\n",
       "    </tr>\n",
       "    <tr>\n",
       "      <th>1</th>\n",
       "      <td>346.410162</td>\n",
       "      <td>1</td>\n",
       "      <td>2</td>\n",
       "      <td>1</td>\n",
       "      <td>5.099020</td>\n",
       "      <td>-1</td>\n",
       "      <td>2</td>\n",
       "      <td>0</td>\n",
       "      <td>0</td>\n",
       "      <td>0</td>\n",
       "      <td>...</td>\n",
       "      <td>0</td>\n",
       "      <td>6.907755</td>\n",
       "      <td>0</td>\n",
       "      <td>6.907755</td>\n",
       "      <td>0</td>\n",
       "      <td>6.907755</td>\n",
       "      <td>1</td>\n",
       "      <td>NaN</td>\n",
       "      <td>0</td>\n",
       "      <td>7.600902</td>\n",
       "    </tr>\n",
       "    <tr>\n",
       "      <th>2</th>\n",
       "      <td>300.000000</td>\n",
       "      <td>1</td>\n",
       "      <td>2</td>\n",
       "      <td>1</td>\n",
       "      <td>5.830952</td>\n",
       "      <td>0</td>\n",
       "      <td>0</td>\n",
       "      <td>0</td>\n",
       "      <td>0</td>\n",
       "      <td>0</td>\n",
       "      <td>...</td>\n",
       "      <td>0</td>\n",
       "      <td>7.313220</td>\n",
       "      <td>0</td>\n",
       "      <td>6.907755</td>\n",
       "      <td>0</td>\n",
       "      <td>6.907755</td>\n",
       "      <td>0</td>\n",
       "      <td>6.907755</td>\n",
       "      <td>0</td>\n",
       "      <td>8.517193</td>\n",
       "    </tr>\n",
       "    <tr>\n",
       "      <th>3</th>\n",
       "      <td>223.606798</td>\n",
       "      <td>1</td>\n",
       "      <td>2</td>\n",
       "      <td>0</td>\n",
       "      <td>6.082763</td>\n",
       "      <td>0</td>\n",
       "      <td>0</td>\n",
       "      <td>0</td>\n",
       "      <td>0</td>\n",
       "      <td>0</td>\n",
       "      <td>...</td>\n",
       "      <td>0</td>\n",
       "      <td>7.610358</td>\n",
       "      <td>0</td>\n",
       "      <td>7.090077</td>\n",
       "      <td>0</td>\n",
       "      <td>7.003065</td>\n",
       "      <td>0</td>\n",
       "      <td>6.974479</td>\n",
       "      <td>0</td>\n",
       "      <td>6.907755</td>\n",
       "    </tr>\n",
       "    <tr>\n",
       "      <th>4</th>\n",
       "      <td>223.606798</td>\n",
       "      <td>0</td>\n",
       "      <td>2</td>\n",
       "      <td>0</td>\n",
       "      <td>7.549834</td>\n",
       "      <td>-1</td>\n",
       "      <td>0</td>\n",
       "      <td>-1</td>\n",
       "      <td>0</td>\n",
       "      <td>0</td>\n",
       "      <td>...</td>\n",
       "      <td>0</td>\n",
       "      <td>10.510014</td>\n",
       "      <td>0</td>\n",
       "      <td>9.210340</td>\n",
       "      <td>0</td>\n",
       "      <td>9.104980</td>\n",
       "      <td>0</td>\n",
       "      <td>6.535241</td>\n",
       "      <td>0</td>\n",
       "      <td>6.520621</td>\n",
       "    </tr>\n",
       "  </tbody>\n",
       "</table>\n",
       "<p>5 rows × 36 columns</p>\n",
       "</div>"
      ],
      "text/plain": [
       "    LIMIT_BAL  SEX  EDUCATION  MARRIAGE       AGE  PAY_0  PAY_2  PAY_3  PAY_4  \\\n",
       "0  141.421356    1          2         0  4.898979      2      2     -1     -1   \n",
       "1  346.410162    1          2         1  5.099020     -1      2      0      0   \n",
       "2  300.000000    1          2         1  5.830952      0      0      0      0   \n",
       "3  223.606798    1          2         0  6.082763      0      0      0      0   \n",
       "4  223.606798    0          2         0  7.549834     -1      0     -1      0   \n",
       "\n",
       "   PAY_5  ...  PAY_AMT2_is_0  PAY_AMT2_>_0  PAY_AMT3_is_0  PAY_AMT3_>_0  \\\n",
       "0     -2  ...              0      6.535241              1           NaN   \n",
       "1      0  ...              0      6.907755              0      6.907755   \n",
       "2      0  ...              0      7.313220              0      6.907755   \n",
       "3      0  ...              0      7.610358              0      7.090077   \n",
       "4      0  ...              0     10.510014              0      9.210340   \n",
       "\n",
       "   PAY_AMT4_is_0  PAY_AMT4_>_0  PAY_AMT5_is_0  PAY_AMT5_>_0  PAY_AMT6_is_0  \\\n",
       "0              1           NaN              1           NaN              1   \n",
       "1              0      6.907755              1           NaN              0   \n",
       "2              0      6.907755              0      6.907755              0   \n",
       "3              0      7.003065              0      6.974479              0   \n",
       "4              0      9.104980              0      6.535241              0   \n",
       "\n",
       "   PAY_AMT6_>_0  \n",
       "0           NaN  \n",
       "1      7.600902  \n",
       "2      8.517193  \n",
       "3      6.907755  \n",
       "4      6.520621  \n",
       "\n",
       "[5 rows x 36 columns]"
      ]
     },
     "execution_count": 17,
     "metadata": {},
     "output_type": "execute_result"
    }
   ],
   "source": [
    "t_data.head()"
   ]
  },
  {
   "cell_type": "code",
   "execution_count": 18,
   "metadata": {},
   "outputs": [
    {
     "name": "stdout",
     "output_type": "stream",
     "text": [
      "PAY_AMT1_is_0\n"
     ]
    },
    {
     "data": {
      "image/png": "[encoded data removed]",
      "text/plain": [
       "<Figure size 432x288 with 1 Axes>"
      ]
     },
     "metadata": {
      "needs_background": "light"
     },
     "output_type": "display_data"
    }
   ],
   "source": [
    "#--Histogram of indicator part of PAY_AMT1 (=1 if PAY=0)--#\n",
    "\n",
    "print('PAY_AMT1_is_0')\n",
    "t_data['PAY_AMT1_is_0'].hist()\n",
    "plt.show()"
   ]
  },
  {
   "cell_type": "code",
   "execution_count": 19,
   "metadata": {},
   "outputs": [
    {
     "name": "stdout",
     "output_type": "stream",
     "text": [
      "log(PAY_AMT1_>_0+1)\n"
     ]
    },
    {
     "data": {
      "image/png": "[encoded data removed]",
      "text/plain": [
       "<Figure size 432x288 with 1 Axes>"
      ]
     },
     "metadata": {
      "needs_background": "light"
     },
     "output_type": "display_data"
    }
   ],
   "source": [
    "#--Histogram of continuous part of log(PAY_AMT1+1)--#\n",
    "\n",
    "print('log(PAY_AMT1_>_0+1)')\n",
    "t_data['PAY_AMT1_>_0'].hist(bins=150)\n",
    "plt.show()"
   ]
  },
  {
   "cell_type": "markdown",
   "metadata": {},
   "source": [
    "## DATA PREPROCESSING"
   ]
  },
  {
   "cell_type": "markdown",
   "metadata": {},
   "source": [
    "### Feature and Target Identification"
   ]
  },
  {
   "cell_type": "code",
   "execution_count": 20,
   "metadata": {},
   "outputs": [],
   "source": [
    "target = ['default payment next month']\n",
    "feature_list = [var for var in t_data.columns if var not in target]\n",
    "\n",
    "X = t_data[feature_list]\n",
    "y = t_data[target]"
   ]
  },
  {
   "cell_type": "markdown",
   "metadata": {},
   "source": [
    "### IMPUTATION"
   ]
  },
  {
   "cell_type": "code",
   "execution_count": 21,
   "metadata": {},
   "outputs": [],
   "source": [
    "#--Impute data for missing values--#\n",
    "#-Adds noise, but is required for processing-#\n",
    "\n",
    "from sklearn.experimental import enable_iterative_imputer\n",
    "from sklearn.impute import IterativeImputer\n",
    "\n",
    "data_imputer = IterativeImputer(max_iter=10, random_state=0)\n",
    "\n",
    "data_fit = data_imputer.fit(X)\n",
    "\n",
    "X = pd.DataFrame(data_fit.transform(X), columns = X.columns)"
   ]
  },
  {
   "cell_type": "markdown",
   "metadata": {},
   "source": [
    "## NORMALISER"
   ]
  },
  {
   "cell_type": "code",
   "execution_count": 22,
   "metadata": {},
   "outputs": [],
   "source": [
    "#--Normalise all numerical values for future processing--#\n",
    "\n",
    "from sklearn.preprocessing import normalize\n",
    "\n",
    "categorical_variables = ['SEX', 'EDUCATION', 'MARRIAGE', 'PAY_0', 'PAY_2', 'PAY_3', 'PAY_4', 'PAY_5', 'PAY_6''PAY_AMT_IS_0', 'PAY_AMT_IS_1', 'PAY_AMT_IS_2', 'PAY_AMT_IS_3', 'PAY_AMT_IS_4',\n",
    "                        'PAY_AMT_IS_5', 'PAY_AMT_IS_6']\n",
    "numerical_variables = [var for var in X.columns if var not in categorical_variables]\n",
    "\n",
    "for var in numerical_variables:\n",
    "    normed_var = normalize(X[var].values.reshape(-1,1), axis=0)\n",
    "    X[var] = normed_var"
   ]
  },
  {
   "cell_type": "markdown",
   "metadata": {},
   "source": [
    "## Create and Train Prediction Models"
   ]
  },
  {
   "cell_type": "code",
   "execution_count": 23,
   "metadata": {},
   "outputs": [],
   "source": [
    "#--Import splitting and neural network packages--#\n",
    "\n",
    "from sklearn.model_selection import train_test_split\n",
    "\n",
    "import tensorflow as tf\n",
    "from tensorflow.keras import layers\n",
    "\n",
    "from tensorflow.keras.wrappers.scikit_learn import KerasClassifier"
   ]
  },
  {
   "cell_type": "code",
   "execution_count": 24,
   "metadata": {},
   "outputs": [],
   "source": [
    "#--Import evaluation metrics for models--#\n",
    "\n",
    "from sklearn.metrics import accuracy_score, roc_auc_score, precision_score, recall_score, confusion_matrix"
   ]
  },
  {
   "cell_type": "code",
   "execution_count": 25,
   "metadata": {},
   "outputs": [],
   "source": [
    "#--Import classical models from sklearn--#\n",
    "\n",
    "from sklearn.linear_model import LogisticRegression, RidgeClassifier\n",
    "from sklearn.naive_bayes import GaussianNB\n",
    "from sklearn.neighbors import KNeighborsClassifier, RadiusNeighborsClassifier, NearestCentroid\n",
    "from sklearn.svm import SVC\n",
    "from sklearn.tree import DecisionTreeClassifier, ExtraTreeClassifier\n",
    "\n",
    "from sklearn.ensemble import AdaBoostClassifier, BaggingClassifier, GradientBoostingClassifier, RandomForestClassifier, StackingClassifier, VotingClassifier"
   ]
  },
  {
   "cell_type": "code",
   "execution_count": 26,
   "metadata": {},
   "outputs": [],
   "source": [
    "#--Create custom neural net--#\n",
    "\n",
    "def my_neural_net():\n",
    "    model = tf.keras.Sequential([\n",
    "        layers.Dense(128, activation='relu'),\n",
    "      layers.Dense(64, activation='relu'),\n",
    "      layers.Dropout(.1),\n",
    "      layers.Dense(1, activation='relu')\n",
    "    ])\n",
    "\n",
    "    model.compile(optimizer='adam',\n",
    "                  loss=tf.keras.losses.BinaryCrossentropy(),\n",
    "                  metrics=[tf.keras.metrics.BinaryAccuracy(\n",
    "        name=\"binary_accuracy\", dtype=None, threshold=0.5\n",
    "    )])\n",
    "    return model"
   ]
  },
  {
   "cell_type": "code",
   "execution_count": 27,
   "metadata": {},
   "outputs": [],
   "source": [
    "#--Import neural net into sklearn--#\n",
    "\n",
    "skl_neural_net = KerasClassifier(build_fn=my_neural_net, epochs=50, verbose=0)"
   ]
  },
  {
   "cell_type": "code",
   "execution_count": 28,
   "metadata": {},
   "outputs": [],
   "source": [
    "#--Combine all simple models into dataframe with their names--#\n",
    "\n",
    "model_name = ['Logistic Regression', 'Ridge', 'Naive Bayes', 'K Nearest', 'Radius', 'Centroid', 'SVM linear',\n",
    "             'SVM poly', 'SVM rbf', 'SVM sig', 'Decision Tree', 'Extra Tree', 'Neural Net']\n",
    "\n",
    "model_list = [LogisticRegression(), RidgeClassifier(), GaussianNB(), KNeighborsClassifier(), RadiusNeighborsClassifier(radius=10),\n",
    "              NearestCentroid(), SVC(kernel='linear'), SVC(kernel='poly'), SVC(kernel='rbf'), SVC(kernel='sigmoid'),\n",
    "              DecisionTreeClassifier(), ExtraTreeClassifier(), skl_neural_net]\n",
    "\n",
    "model_frame = pd.DataFrame(model_list, model_name)\n",
    "\n",
    "#--List all ensemble estimators--#\n",
    "\n",
    "ensemble_estimators = [('Logistic', LogisticRegression()), ('Ridge', RidgeClassifier()), ('SVM rbf', SVC(kernel='rbf'))]\n",
    "\n",
    "ensemble_name = ['AdaBoost', 'Bagging', 'Gradient Boost', 'Random Forest',\n",
    "                 'Stacking', 'Voting']\n",
    "\n",
    "ensemble_list = [AdaBoostClassifier(), BaggingClassifier(), GradientBoostingClassifier(), RandomForestClassifier(),\n",
    "                 StackingClassifier(estimators=ensemble_estimators), VotingClassifier(estimators=ensemble_estimators)]"
   ]
  },
  {
   "cell_type": "markdown",
   "metadata": {},
   "source": [
    "## Split Data into Train and Test Sets"
   ]
  },
  {
   "cell_type": "code",
   "execution_count": 29,
   "metadata": {},
   "outputs": [],
   "source": [
    "X_train, X_test, Y_train, Y_test = train_test_split(X, y, test_size=0.2)"
   ]
  },
  {
   "cell_type": "code",
   "execution_count": 30,
   "metadata": {},
   "outputs": [
    {
     "name": "stderr",
     "output_type": "stream",
     "text": [
      "/opt/anaconda3/lib/python3.8/site-packages/sklearn/utils/validation.py:72: DataConversionWarning: A column-vector y was passed when a 1d array was expected. Please change the shape of y to (n_samples, ), for example using ravel().\n",
      "  return f(**kwargs)\n",
      "/opt/anaconda3/lib/python3.8/site-packages/sklearn/utils/validation.py:72: DataConversionWarning: A column-vector y was passed when a 1d array was expected. Please change the shape of y to (n_samples, ), for example using ravel().\n",
      "  return f(**kwargs)\n",
      "/opt/anaconda3/lib/python3.8/site-packages/sklearn/utils/validation.py:72: DataConversionWarning: A column-vector y was passed when a 1d array was expected. Please change the shape of y to (n_samples, ), for example using ravel().\n",
      "  return f(**kwargs)\n",
      "<ipython-input-30-c81fbd967d1d>:7: DataConversionWarning: A column-vector y was passed when a 1d array was expected. Please change the shape of y to (n_samples, ), for example using ravel().\n",
      "  fitted_model = mod[0].fit(X_train, Y_train)\n",
      "/opt/anaconda3/lib/python3.8/site-packages/sklearn/neighbors/_classification.py:409: DataConversionWarning: A column-vector y was passed when a 1d array was expected. Please change the shape of y to (n_samples, ), for example using ravel().\n",
      "  SupervisedIntegerMixin.fit(self, X, y)\n",
      "/opt/anaconda3/lib/python3.8/site-packages/sklearn/utils/validation.py:72: DataConversionWarning: A column-vector y was passed when a 1d array was expected. Please change the shape of y to (n_samples, ), for example using ravel().\n",
      "  return f(**kwargs)\n",
      "/opt/anaconda3/lib/python3.8/site-packages/sklearn/utils/validation.py:72: DataConversionWarning: A column-vector y was passed when a 1d array was expected. Please change the shape of y to (n_samples, ), for example using ravel().\n",
      "  return f(**kwargs)\n",
      "/opt/anaconda3/lib/python3.8/site-packages/sklearn/utils/validation.py:72: DataConversionWarning: A column-vector y was passed when a 1d array was expected. Please change the shape of y to (n_samples, ), for example using ravel().\n",
      "  return f(**kwargs)\n",
      "/opt/anaconda3/lib/python3.8/site-packages/sklearn/utils/validation.py:72: DataConversionWarning: A column-vector y was passed when a 1d array was expected. Please change the shape of y to (n_samples, ), for example using ravel().\n",
      "  return f(**kwargs)\n",
      "/opt/anaconda3/lib/python3.8/site-packages/sklearn/utils/validation.py:72: DataConversionWarning: A column-vector y was passed when a 1d array was expected. Please change the shape of y to (n_samples, ), for example using ravel().\n",
      "  return f(**kwargs)\n"
     ]
    },
    {
     "data": {
      "text/html": [
       "<div>\n",
       "<style scoped>\n",
       "    .dataframe tbody tr th:only-of-type {\n",
       "        vertical-align: middle;\n",
       "    }\n",
       "\n",
       "    .dataframe tbody tr th {\n",
       "        vertical-align: top;\n",
       "    }\n",
       "\n",
       "    .dataframe thead th {\n",
       "        text-align: right;\n",
       "    }\n",
       "</style>\n",
       "<table border=\"1\" class=\"dataframe\">\n",
       "  <thead>\n",
       "    <tr style=\"text-align: right;\">\n",
       "      <th></th>\n",
       "      <th>time to run (sec)</th>\n",
       "      <th>Accuracy</th>\n",
       "      <th>AUC</th>\n",
       "      <th>Precision</th>\n",
       "      <th>Recall</th>\n",
       "    </tr>\n",
       "    <tr>\n",
       "      <th>Model</th>\n",
       "      <th></th>\n",
       "      <th></th>\n",
       "      <th></th>\n",
       "      <th></th>\n",
       "      <th></th>\n",
       "    </tr>\n",
       "  </thead>\n",
       "  <tbody>\n",
       "    <tr>\n",
       "      <th>Logistic Regression</th>\n",
       "      <td>0.180181</td>\n",
       "      <td>0.811671</td>\n",
       "      <td>0.753570</td>\n",
       "      <td>0.208967</td>\n",
       "      <td>0.686842</td>\n",
       "    </tr>\n",
       "    <tr>\n",
       "      <th>Ridge</th>\n",
       "      <td>0.059992</td>\n",
       "      <td>0.805716</td>\n",
       "      <td>0.757689</td>\n",
       "      <td>0.147318</td>\n",
       "      <td>0.704981</td>\n",
       "    </tr>\n",
       "    <tr>\n",
       "      <th>Naive Bayes</th>\n",
       "      <td>0.027643</td>\n",
       "      <td>0.680674</td>\n",
       "      <td>0.621858</td>\n",
       "      <td>0.658927</td>\n",
       "      <td>0.361917</td>\n",
       "    </tr>\n",
       "    <tr>\n",
       "      <th>K Nearest</th>\n",
       "      <td>2.970447</td>\n",
       "      <td>0.803675</td>\n",
       "      <td>0.700714</td>\n",
       "      <td>0.369095</td>\n",
       "      <td>0.557437</td>\n",
       "    </tr>\n",
       "    <tr>\n",
       "      <th>Radius</th>\n",
       "      <td>21.431726</td>\n",
       "      <td>0.789384</td>\n",
       "      <td>0.764356</td>\n",
       "      <td>0.013611</td>\n",
       "      <td>0.739130</td>\n",
       "    </tr>\n",
       "    <tr>\n",
       "      <th>Centroid</th>\n",
       "      <td>0.028436</td>\n",
       "      <td>0.783600</td>\n",
       "      <td>0.680691</td>\n",
       "      <td>0.527622</td>\n",
       "      <td>0.491424</td>\n",
       "    </tr>\n",
       "    <tr>\n",
       "      <th>SVM linear</th>\n",
       "      <td>100.461746</td>\n",
       "      <td>0.813712</td>\n",
       "      <td>0.753164</td>\n",
       "      <td>0.230584</td>\n",
       "      <td>0.682464</td>\n",
       "    </tr>\n",
       "    <tr>\n",
       "      <th>SVM poly</th>\n",
       "      <td>46.023752</td>\n",
       "      <td>0.814563</td>\n",
       "      <td>0.753214</td>\n",
       "      <td>0.239392</td>\n",
       "      <td>0.681093</td>\n",
       "    </tr>\n",
       "    <tr>\n",
       "      <th>SVM rbf</th>\n",
       "      <td>27.191457</td>\n",
       "      <td>0.827662</td>\n",
       "      <td>0.768073</td>\n",
       "      <td>0.339472</td>\n",
       "      <td>0.692810</td>\n",
       "    </tr>\n",
       "    <tr>\n",
       "      <th>SVM sig</th>\n",
       "      <td>16.463678</td>\n",
       "      <td>0.753147</td>\n",
       "      <td>0.632791</td>\n",
       "      <td>0.428343</td>\n",
       "      <td>0.420597</td>\n",
       "    </tr>\n",
       "    <tr>\n",
       "      <th>Decision Tree</th>\n",
       "      <td>0.685083</td>\n",
       "      <td>0.722355</td>\n",
       "      <td>0.599356</td>\n",
       "      <td>0.409127</td>\n",
       "      <td>0.363701</td>\n",
       "    </tr>\n",
       "    <tr>\n",
       "      <th>Extra Tree</th>\n",
       "      <td>0.053128</td>\n",
       "      <td>0.730521</td>\n",
       "      <td>0.602461</td>\n",
       "      <td>0.389111</td>\n",
       "      <td>0.371844</td>\n",
       "    </tr>\n",
       "    <tr>\n",
       "      <th>Neural Net</th>\n",
       "      <td>30.596479</td>\n",
       "      <td>0.825451</td>\n",
       "      <td>0.761342</td>\n",
       "      <td>0.337070</td>\n",
       "      <td>0.680129</td>\n",
       "    </tr>\n",
       "  </tbody>\n",
       "</table>\n",
       "</div>"
      ],
      "text/plain": [
       "                     time to run (sec)  Accuracy       AUC  Precision  \\\n",
       "Model                                                                   \n",
       "Logistic Regression           0.180181  0.811671  0.753570   0.208967   \n",
       "Ridge                         0.059992  0.805716  0.757689   0.147318   \n",
       "Naive Bayes                   0.027643  0.680674  0.621858   0.658927   \n",
       "K Nearest                     2.970447  0.803675  0.700714   0.369095   \n",
       "Radius                       21.431726  0.789384  0.764356   0.013611   \n",
       "Centroid                      0.028436  0.783600  0.680691   0.527622   \n",
       "SVM linear                  100.461746  0.813712  0.753164   0.230584   \n",
       "SVM poly                     46.023752  0.814563  0.753214   0.239392   \n",
       "SVM rbf                      27.191457  0.827662  0.768073   0.339472   \n",
       "SVM sig                      16.463678  0.753147  0.632791   0.428343   \n",
       "Decision Tree                 0.685083  0.722355  0.599356   0.409127   \n",
       "Extra Tree                    0.053128  0.730521  0.602461   0.389111   \n",
       "Neural Net                   30.596479  0.825451  0.761342   0.337070   \n",
       "\n",
       "                       Recall  \n",
       "Model                          \n",
       "Logistic Regression  0.686842  \n",
       "Ridge                0.704981  \n",
       "Naive Bayes          0.361917  \n",
       "K Nearest            0.557437  \n",
       "Radius               0.739130  \n",
       "Centroid             0.491424  \n",
       "SVM linear           0.682464  \n",
       "SVM poly             0.681093  \n",
       "SVM rbf              0.692810  \n",
       "SVM sig              0.420597  \n",
       "Decision Tree        0.363701  \n",
       "Extra Tree           0.371844  \n",
       "Neural Net           0.680129  "
      ]
     },
     "execution_count": 30,
     "metadata": {},
     "output_type": "execute_result"
    }
   ],
   "source": [
    "#--Generate dataframe report for each simple model with evaluation metrics--#\n",
    "\n",
    "my_report = []\n",
    "for nam, mod in model_frame.iterrows():\n",
    "    start_time=time.time()\n",
    "    if nam != 'Neural Net':\n",
    "        fitted_model = mod[0].fit(X_train, Y_train)\n",
    "        y_pred = fitted_model.predict(X_test)\n",
    "    else:\n",
    "        fitted_model = mod[0].fit(X_train, Y_train)\n",
    "        y_pred = np.round(fitted_model.model.predict(X_test))\n",
    "    end_time=time.time()\n",
    "    time_diff = end_time-start_time\n",
    "    my_report = my_report + [(nam, time_diff, accuracy_score(y_pred, Y_test), roc_auc_score(y_pred, Y_test), precision_score(y_pred, Y_test), recall_score(y_pred, Y_test))]\n",
    "    \n",
    "my_report = pd.DataFrame(my_report, columns=['Model', 'time to run (sec)', 'Accuracy', 'AUC', 'Precision', 'Recall'])\n",
    "my_report = my_report.set_index('Model')\n",
    "my_report"
   ]
  },
  {
   "cell_type": "code",
   "execution_count": 31,
   "metadata": {},
   "outputs": [
    {
     "name": "stderr",
     "output_type": "stream",
     "text": [
      "/opt/anaconda3/lib/python3.8/site-packages/sklearn/utils/validation.py:72: DataConversionWarning: A column-vector y was passed when a 1d array was expected. Please change the shape of y to (n_samples, ), for example using ravel().\n",
      "  return f(**kwargs)\n",
      "/opt/anaconda3/lib/python3.8/site-packages/sklearn/utils/validation.py:72: DataConversionWarning: A column-vector y was passed when a 1d array was expected. Please change the shape of y to (n_samples, ), for example using ravel().\n",
      "  return f(**kwargs)\n",
      "/opt/anaconda3/lib/python3.8/site-packages/sklearn/utils/validation.py:72: DataConversionWarning: A column-vector y was passed when a 1d array was expected. Please change the shape of y to (n_samples, ), for example using ravel().\n",
      "  return f(**kwargs)\n",
      "<ipython-input-31-9becf553405c>:8: DataConversionWarning: A column-vector y was passed when a 1d array was expected. Please change the shape of y to (n_samples,), for example using ravel().\n",
      "  fitted_model = mod.fit(X_train, Y_train)\n",
      "/opt/anaconda3/lib/python3.8/site-packages/sklearn/utils/validation.py:72: DataConversionWarning: A column-vector y was passed when a 1d array was expected. Please change the shape of y to (n_samples, ), for example using ravel().\n",
      "  return f(**kwargs)\n",
      "/opt/anaconda3/lib/python3.8/site-packages/sklearn/utils/validation.py:72: DataConversionWarning: A column-vector y was passed when a 1d array was expected. Please change the shape of y to (n_samples, ), for example using ravel().\n",
      "  return f(**kwargs)\n"
     ]
    },
    {
     "data": {
      "text/html": [
       "<div>\n",
       "<style scoped>\n",
       "    .dataframe tbody tr th:only-of-type {\n",
       "        vertical-align: middle;\n",
       "    }\n",
       "\n",
       "    .dataframe tbody tr th {\n",
       "        vertical-align: top;\n",
       "    }\n",
       "\n",
       "    .dataframe thead th {\n",
       "        text-align: right;\n",
       "    }\n",
       "</style>\n",
       "<table border=\"1\" class=\"dataframe\">\n",
       "  <thead>\n",
       "    <tr style=\"text-align: right;\">\n",
       "      <th></th>\n",
       "      <th>time to run (sec)</th>\n",
       "      <th>Accuracy</th>\n",
       "      <th>AUC</th>\n",
       "      <th>Precision</th>\n",
       "      <th>Recall</th>\n",
       "    </tr>\n",
       "    <tr>\n",
       "      <th>Model</th>\n",
       "      <th></th>\n",
       "      <th></th>\n",
       "      <th></th>\n",
       "      <th></th>\n",
       "      <th></th>\n",
       "    </tr>\n",
       "  </thead>\n",
       "  <tbody>\n",
       "    <tr>\n",
       "      <th>AdaBoost</th>\n",
       "      <td>2.449774</td>\n",
       "      <td>0.821708</td>\n",
       "      <td>0.754807</td>\n",
       "      <td>0.315452</td>\n",
       "      <td>0.671210</td>\n",
       "    </tr>\n",
       "    <tr>\n",
       "      <th>Bagging</th>\n",
       "      <td>4.909193</td>\n",
       "      <td>0.801633</td>\n",
       "      <td>0.696792</td>\n",
       "      <td>0.315452</td>\n",
       "      <td>0.558865</td>\n",
       "    </tr>\n",
       "    <tr>\n",
       "      <th>Gradient Boost</th>\n",
       "      <td>11.410031</td>\n",
       "      <td>0.826982</td>\n",
       "      <td>0.760341</td>\n",
       "      <td>0.359488</td>\n",
       "      <td>0.674174</td>\n",
       "    </tr>\n",
       "    <tr>\n",
       "      <th>Random Forest</th>\n",
       "      <td>6.706558</td>\n",
       "      <td>0.820687</td>\n",
       "      <td>0.741921</td>\n",
       "      <td>0.360288</td>\n",
       "      <td>0.638298</td>\n",
       "    </tr>\n",
       "    <tr>\n",
       "      <th>Stacking</th>\n",
       "      <td>113.899067</td>\n",
       "      <td>0.827492</td>\n",
       "      <td>0.766759</td>\n",
       "      <td>0.341873</td>\n",
       "      <td>0.689822</td>\n",
       "    </tr>\n",
       "    <tr>\n",
       "      <th>Voting</th>\n",
       "      <td>27.608104</td>\n",
       "      <td>0.812521</td>\n",
       "      <td>0.755977</td>\n",
       "      <td>0.212970</td>\n",
       "      <td>0.690909</td>\n",
       "    </tr>\n",
       "  </tbody>\n",
       "</table>\n",
       "</div>"
      ],
      "text/plain": [
       "                time to run (sec)  Accuracy       AUC  Precision    Recall\n",
       "Model                                                                     \n",
       "AdaBoost                 2.449774  0.821708  0.754807   0.315452  0.671210\n",
       "Bagging                  4.909193  0.801633  0.696792   0.315452  0.558865\n",
       "Gradient Boost          11.410031  0.826982  0.760341   0.359488  0.674174\n",
       "Random Forest            6.706558  0.820687  0.741921   0.360288  0.638298\n",
       "Stacking               113.899067  0.827492  0.766759   0.341873  0.689822\n",
       "Voting                  27.608104  0.812521  0.755977   0.212970  0.690909"
      ]
     },
     "execution_count": 31,
     "metadata": {},
     "output_type": "execute_result"
    }
   ],
   "source": [
    "#--Generate dataframe report for each simple model with evaluation metrics--#\n",
    "\n",
    "ensemble_report = []\n",
    "for i in range(6):\n",
    "    nam = ensemble_name[i]\n",
    "    mod = ensemble_list[i]\n",
    "    start_time=time.time()\n",
    "    fitted_model = mod.fit(X_train, Y_train)\n",
    "    y_pred = fitted_model.predict(X_test)\n",
    "    end_time=time.time()\n",
    "    time_diff = end_time-start_time\n",
    "    ensemble_report = ensemble_report + [(nam, time_diff, accuracy_score(y_pred, Y_test), roc_auc_score(y_pred, Y_test), precision_score(y_pred, Y_test), recall_score(y_pred, Y_test))]\n",
    "    \n",
    "ensemble_report = pd.DataFrame(ensemble_report, columns=['Model', 'time to run (sec)', 'Accuracy', 'AUC', 'Precision', 'Recall'])\n",
    "ensemble_report = ensemble_report.set_index('Model')\n",
    "ensemble_report"
   ]
  }
 ],
 "metadata": {
  "kernelspec": {
   "display_name": "Python 3",
   "language": "python",
   "name": "python3"
  },
  "language_info": {
   "codemirror_mode": {
    "name": "ipython",
    "version": 3
   },
   "file_extension": ".py",
   "mimetype": "text/x-python",
   "name": "python",
   "nbconvert_exporter": "python",
   "pygments_lexer": "ipython3",
   "version": "3.8.5"
  }
 },
 "nbformat": 4,
 "nbformat_minor": 5
}
